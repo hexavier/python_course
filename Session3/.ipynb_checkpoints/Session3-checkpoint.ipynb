{
 "cells": [
  {
   "cell_type": "markdown",
   "metadata": {},
   "source": [
    "# Introduction to Python - Session 3\n",
    "1. Installing and using packages\n",
    "2. Regular expressions: the re package\n",
    "3. Data analysis:\n",
    "    - The numpy package\n",
    "    - The pandas package"
   ]
  },
  {
   "cell_type": "markdown",
   "metadata": {},
   "source": [
    "## EXERCISE 1 - Regular expressions"
   ]
  },
  {
   "cell_type": "code",
   "execution_count": 6,
   "metadata": {},
   "outputs": [],
   "source": [
    "import re"
   ]
  },
  {
   "cell_type": "markdown",
   "metadata": {},
   "source": [
    "**1. Extract numbers from `myString`.**"
   ]
  },
  {
   "cell_type": "code",
   "execution_count": 11,
   "metadata": {},
   "outputs": [
    {
     "name": "stdout",
     "output_type": "stream",
     "text": [
      "['12', '89', '34']\n"
     ]
    }
   ],
   "source": [
    "myString = 'Hello 12 hi 89. How are you 34?'\n",
    "pattern = '[0-9]+'\n",
    "\n",
    "result = re.findall(pattern, myString) \n",
    "print(result)"
   ]
  },
  {
   "cell_type": "markdown",
   "metadata": {},
   "source": [
    "**2. Split a comma-delimited enumaration of `myFruits` into a list.**"
   ]
  },
  {
   "cell_type": "code",
   "execution_count": 12,
   "metadata": {},
   "outputs": [
    {
     "name": "stdout",
     "output_type": "stream",
     "text": [
      "['banana', 'apple', 'melon', 'strawberry', 'peach', 'grapes']\n"
     ]
    }
   ],
   "source": [
    "myFruits = \"banana, apple, melon, strawberry, peach, grapes\"\n",
    "pattern = \", \"\n",
    "\n",
    "result = re.split(pattern, myFruits)\n",
    "print(result)"
   ]
  },
  {
   "cell_type": "markdown",
   "metadata": {},
   "source": [
    "**3. Replace, for all items in the list, all `.` by `-`.**"
   ]
  },
  {
   "cell_type": "code",
   "execution_count": 16,
   "metadata": {},
   "outputs": [
    {
     "name": "stdout",
     "output_type": "stream",
     "text": [
      "['Spain-2006', 'Belgium-2015', 'Portugal-2001']\n"
     ]
    }
   ],
   "source": [
    "myList = [\"Spain.2006\", \"Belgium.2015\", \"Portugal.2001\"]\n",
    "pattern = \"\\.\" # Remember: use \\ to escape the meaning of . as a metacharacter.\n",
    "replacement = \"-\"\n",
    "\n",
    "result = [re.sub(pattern, replacement, s) for s in myList]\n",
    "print(result)"
   ]
  },
  {
   "cell_type": "markdown",
   "metadata": {},
   "source": [
    "**4. Detect whether \"Python\" is present at the beginning of `myString`. and print the result.**"
   ]
  },
  {
   "cell_type": "code",
   "execution_count": 17,
   "metadata": {},
   "outputs": [
    {
     "name": "stdout",
     "output_type": "stream",
     "text": [
      "Pattern found inside the string\n"
     ]
    }
   ],
   "source": [
    "myString = \"Python is fun\"\n",
    "\n",
    "# check if 'Python' is at the beginning\n",
    "match = re.search('^Python', myString)\n",
    "\n",
    "if match:\n",
    "  print(\"Pattern found inside the string\")\n",
    "else:\n",
    "  print(\"Pattern not found\")  \n"
   ]
  },
  {
   "cell_type": "markdown",
   "metadata": {},
   "source": [
    "**5. From the following list of file names, extract a list that contains only the sample id \"sampleX\".** Use the following expressions if needed: \n",
    "\n",
    "**`(?=...)`** = Matches if the pattern is followed by ...\n",
    "\n",
    "**`(?<=...)`** = Matches if the pattern is preceded by ..."
   ]
  },
  {
   "cell_type": "code",
   "execution_count": 23,
   "metadata": {},
   "outputs": [
    {
     "name": "stdout",
     "output_type": "stream",
     "text": [
      "[['sample1'], ['sample2'], ['sample3'], ['sample4']]\n",
      "['sample1', 'sample2', 'sample3', 'sample4']\n"
     ]
    }
   ],
   "source": [
    "# Option 1 - Match the exact pattern of the string\n",
    "filenames = [\"L2_sample1_GTAGCG.fastq.gz\", \"L1_sample2_ATTGCC.fastq.gz\", \n",
    "             \"L1_sample3_TGTTAC.fastq.gz\", \"L4_sample4_ATGGTA.fastq.gz\"]\n",
    "pattern = \"(?<=L[1-4]_)sample[1-4](?=_[AGCT]{6}.fastq.gz)\"\n",
    "\n",
    "result = [re.findall(pattern, s) for s in filenames]\n",
    "print(result)\n",
    "\n",
    "\n",
    "# Option 2 - Split string by \"_\" and get the second element\n",
    "filenames = [\"L2_sample1_GTAGCG.fastq.gz\", \"L1_sample2_ATTGCC.fastq.gz\", \n",
    "             \"L1_sample3_TGTTAC.fastq.gz\", \"L4_sample4_ATGGTA.fastq.gz\"]\n",
    "pattern = \"_\"\n",
    "\n",
    "result = [re.split(pattern, s)[1] for s in filenames]\n",
    "print(result)"
   ]
  },
  {
   "cell_type": "markdown",
   "metadata": {},
   "source": [
    "## EXERCISE 2 - Introduction to NumPy"
   ]
  },
  {
   "cell_type": "code",
   "execution_count": 1,
   "metadata": {},
   "outputs": [],
   "source": [
    "import numpy as np"
   ]
  },
  {
   "cell_type": "markdown",
   "metadata": {},
   "source": [
    "**1. Create an array `a` of random numbers and shape (3,4).**"
   ]
  },
  {
   "cell_type": "code",
   "execution_count": 18,
   "metadata": {},
   "outputs": [
    {
     "name": "stdout",
     "output_type": "stream",
     "text": [
      "[[0.71182358 0.27138085 0.43316372 0.74481914]\n",
      " [0.96771308 0.00871517 0.676256   0.26688211]\n",
      " [0.49560982 0.51423813 0.62729738 0.72659303]]\n"
     ]
    }
   ],
   "source": [
    "a = np.random.random([3,4])\n",
    "print(a)"
   ]
  },
  {
   "cell_type": "markdown",
   "metadata": {},
   "source": [
    "**2. Add a fifth column to `a` with values 0, 0.5, and 1.**"
   ]
  },
  {
   "cell_type": "code",
   "execution_count": 19,
   "metadata": {},
   "outputs": [
    {
     "name": "stdout",
     "output_type": "stream",
     "text": [
      "[[0.71182358 0.27138085 0.43316372 0.74481914 0.        ]\n",
      " [0.96771308 0.00871517 0.676256   0.26688211 0.5       ]\n",
      " [0.49560982 0.51423813 0.62729738 0.72659303 1.        ]]\n"
     ]
    }
   ],
   "source": [
    "a = np.append(a,[[0], [0.5], [1]], axis = 1)\n",
    "print(a)"
   ]
  },
  {
   "cell_type": "markdown",
   "metadata": {},
   "source": [
    "**3. Find all values that are greater or equal to 0.5.**"
   ]
  },
  {
   "cell_type": "code",
   "execution_count": 20,
   "metadata": {},
   "outputs": [
    {
     "name": "stdout",
     "output_type": "stream",
     "text": [
      "[0.71182358 0.74481914 0.96771308 0.676256   0.5        0.51423813\n",
      " 0.62729738 0.72659303 1.        ]\n"
     ]
    }
   ],
   "source": [
    "print(a[a>=0.5])"
   ]
  },
  {
   "cell_type": "markdown",
   "metadata": {},
   "source": [
    "**4. Replace all the first row with NAs.**"
   ]
  },
  {
   "cell_type": "code",
   "execution_count": 26,
   "metadata": {},
   "outputs": [
    {
     "name": "stdout",
     "output_type": "stream",
     "text": [
      "[[       nan        nan        nan        nan        nan]\n",
      " [0.96771308 0.00871517 0.676256   0.26688211 0.5       ]\n",
      " [0.49560982 0.51423813 0.62729738 0.72659303 1.        ]]\n"
     ]
    }
   ],
   "source": [
    "a[0,:] = np.nan\n",
    "print(a)"
   ]
  },
  {
   "cell_type": "markdown",
   "metadata": {},
   "source": [
    "**5. Use matrix multiplication against the vector `b = np.array([1, 0, 10])`.**"
   ]
  },
  {
   "cell_type": "code",
   "execution_count": 27,
   "metadata": {},
   "outputs": [
    {
     "name": "stdout",
     "output_type": "stream",
     "text": [
      "[       nan 8.26403727 8.22176968]\n"
     ]
    }
   ],
   "source": [
    "b = np.array([1, 0, 10, 2, 0])\n",
    "print(np.dot(a,b))"
   ]
  },
  {
   "cell_type": "markdown",
   "metadata": {},
   "source": [
    "**6. Element-wise multiplication of the same vectors `a` and `b`.** Note that `b` is broadcasted along all rows."
   ]
  },
  {
   "cell_type": "code",
   "execution_count": 28,
   "metadata": {},
   "outputs": [
    {
     "name": "stdout",
     "output_type": "stream",
     "text": [
      "[[       nan        nan        nan        nan        nan]\n",
      " [0.96771308 0.         6.76255997 0.53376421 0.        ]\n",
      " [0.49560982 0.         6.2729738  1.45318606 0.        ]]\n"
     ]
    }
   ],
   "source": [
    "print(a*b)"
   ]
  },
  {
   "cell_type": "markdown",
   "metadata": {},
   "source": [
    "**7. Calculate the sum, the mean, and the median of each row of `a`. Use the so-called numpy functions.**"
   ]
  },
  {
   "cell_type": "code",
   "execution_count": 29,
   "metadata": {},
   "outputs": [
    {
     "name": "stdout",
     "output_type": "stream",
     "text": [
      "[       nan 2.41956635 3.36373836]\n",
      "[       nan 0.48391327 0.67274767]\n",
      "[       nan 0.5        0.62729738]\n"
     ]
    }
   ],
   "source": [
    "print(np.sum(a, axis =1))\n",
    "print(np.mean(a, axis =1))\n",
    "print(np.median(a, axis =1))"
   ]
  },
  {
   "cell_type": "markdown",
   "metadata": {},
   "source": [
    "## EXERCISE 3 - Introduction to Pandas"
   ]
  },
  {
   "cell_type": "code",
   "execution_count": 30,
   "metadata": {},
   "outputs": [],
   "source": [
    "import pandas as pd"
   ]
  },
  {
   "cell_type": "markdown",
   "metadata": {},
   "source": [
    "**1. Create the following DataFrame `mydf`, with index `John, Jessica, Steve, Rachel` and columns `Age, Height, Sex`.**\n",
    "\n",
    "```\n",
    "43 \t181 \tM\n",
    "34 \t172 \tF\n",
    "22 \t189 \tM\n",
    "27 \t167 \tF\n",
    "```"
   ]
  },
  {
   "cell_type": "code",
   "execution_count": 44,
   "metadata": {},
   "outputs": [
    {
     "data": {
      "text/html": [
       "<div>\n",
       "<style scoped>\n",
       "    .dataframe tbody tr th:only-of-type {\n",
       "        vertical-align: middle;\n",
       "    }\n",
       "\n",
       "    .dataframe tbody tr th {\n",
       "        vertical-align: top;\n",
       "    }\n",
       "\n",
       "    .dataframe thead th {\n",
       "        text-align: right;\n",
       "    }\n",
       "</style>\n",
       "<table border=\"1\" class=\"dataframe\">\n",
       "  <thead>\n",
       "    <tr style=\"text-align: right;\">\n",
       "      <th></th>\n",
       "      <th>Age</th>\n",
       "      <th>Height</th>\n",
       "      <th>Sex</th>\n",
       "    </tr>\n",
       "  </thead>\n",
       "  <tbody>\n",
       "    <tr>\n",
       "      <th>John</th>\n",
       "      <td>43</td>\n",
       "      <td>181</td>\n",
       "      <td>M</td>\n",
       "    </tr>\n",
       "    <tr>\n",
       "      <th>Jessica</th>\n",
       "      <td>34</td>\n",
       "      <td>172</td>\n",
       "      <td>F</td>\n",
       "    </tr>\n",
       "    <tr>\n",
       "      <th>Steve</th>\n",
       "      <td>22</td>\n",
       "      <td>189</td>\n",
       "      <td>M</td>\n",
       "    </tr>\n",
       "    <tr>\n",
       "      <th>Rachel</th>\n",
       "      <td>27</td>\n",
       "      <td>167</td>\n",
       "      <td>F</td>\n",
       "    </tr>\n",
       "  </tbody>\n",
       "</table>\n",
       "</div>"
      ],
      "text/plain": [
       "         Age  Height Sex\n",
       "John      43     181   M\n",
       "Jessica   34     172   F\n",
       "Steve     22     189   M\n",
       "Rachel    27     167   F"
      ]
     },
     "execution_count": 44,
     "metadata": {},
     "output_type": "execute_result"
    }
   ],
   "source": [
    "mydf = pd.DataFrame([[43, 181, \"M\"],[34, 172, \"F\"],[22, 189, \"M\"],[27, 167, \"F\"]], \n",
    "                    index = [\"John\", \"Jessica\", \"Steve\", \"Rachel\"],\n",
    "                    columns = [\"Age\", \"Height\", \"Sex\"])\n",
    "mydf"
   ]
  },
  {
   "cell_type": "markdown",
   "metadata": {},
   "source": [
    "**2. What is the shape of `mydf`?**"
   ]
  },
  {
   "cell_type": "code",
   "execution_count": 45,
   "metadata": {},
   "outputs": [
    {
     "data": {
      "text/plain": [
       "(4, 3)"
      ]
     },
     "execution_count": 45,
     "metadata": {},
     "output_type": "execute_result"
    }
   ],
   "source": [
    "mydf.shape"
   ]
  },
  {
   "cell_type": "markdown",
   "metadata": {},
   "source": [
    "**3. Calculate the average age and height in `mydf`.**"
   ]
  },
  {
   "cell_type": "code",
   "execution_count": 46,
   "metadata": {},
   "outputs": [
    {
     "data": {
      "text/plain": [
       "Age        31.50\n",
       "Height    177.25\n",
       "dtype: float64"
      ]
     },
     "execution_count": 46,
     "metadata": {},
     "output_type": "execute_result"
    }
   ],
   "source": [
    "mydf.mean(axis = 0)"
   ]
  },
  {
   "cell_type": "markdown",
   "metadata": {},
   "source": [
    "**4. Add one row to `mydf`: Georges who is 53 years old and 168cm tall.**"
   ]
  },
  {
   "cell_type": "code",
   "execution_count": 47,
   "metadata": {},
   "outputs": [
    {
     "data": {
      "text/html": [
       "<div>\n",
       "<style scoped>\n",
       "    .dataframe tbody tr th:only-of-type {\n",
       "        vertical-align: middle;\n",
       "    }\n",
       "\n",
       "    .dataframe tbody tr th {\n",
       "        vertical-align: top;\n",
       "    }\n",
       "\n",
       "    .dataframe thead th {\n",
       "        text-align: right;\n",
       "    }\n",
       "</style>\n",
       "<table border=\"1\" class=\"dataframe\">\n",
       "  <thead>\n",
       "    <tr style=\"text-align: right;\">\n",
       "      <th></th>\n",
       "      <th>Age</th>\n",
       "      <th>Height</th>\n",
       "      <th>Sex</th>\n",
       "    </tr>\n",
       "  </thead>\n",
       "  <tbody>\n",
       "    <tr>\n",
       "      <th>John</th>\n",
       "      <td>43</td>\n",
       "      <td>181</td>\n",
       "      <td>M</td>\n",
       "    </tr>\n",
       "    <tr>\n",
       "      <th>Jessica</th>\n",
       "      <td>34</td>\n",
       "      <td>172</td>\n",
       "      <td>F</td>\n",
       "    </tr>\n",
       "    <tr>\n",
       "      <th>Steve</th>\n",
       "      <td>22</td>\n",
       "      <td>189</td>\n",
       "      <td>M</td>\n",
       "    </tr>\n",
       "    <tr>\n",
       "      <th>Rachel</th>\n",
       "      <td>27</td>\n",
       "      <td>167</td>\n",
       "      <td>F</td>\n",
       "    </tr>\n",
       "    <tr>\n",
       "      <th>Georges</th>\n",
       "      <td>53</td>\n",
       "      <td>168</td>\n",
       "      <td>M</td>\n",
       "    </tr>\n",
       "  </tbody>\n",
       "</table>\n",
       "</div>"
      ],
      "text/plain": [
       "         Age  Height Sex\n",
       "John      43     181   M\n",
       "Jessica   34     172   F\n",
       "Steve     22     189   M\n",
       "Rachel    27     167   F\n",
       "Georges   53     168   M"
      ]
     },
     "execution_count": 47,
     "metadata": {},
     "output_type": "execute_result"
    }
   ],
   "source": [
    "mydf.loc[\"Georges\"] = [53, 168, \"M\"]\n",
    "mydf"
   ]
  },
  {
   "cell_type": "markdown",
   "metadata": {},
   "source": [
    "**5. Change the row names of `mydf` so that the data becomes anonymous.** Use Patient1, Patient2, etc. instead of actual names."
   ]
  },
  {
   "cell_type": "code",
   "execution_count": 48,
   "metadata": {},
   "outputs": [
    {
     "data": {
      "text/html": [
       "<div>\n",
       "<style scoped>\n",
       "    .dataframe tbody tr th:only-of-type {\n",
       "        vertical-align: middle;\n",
       "    }\n",
       "\n",
       "    .dataframe tbody tr th {\n",
       "        vertical-align: top;\n",
       "    }\n",
       "\n",
       "    .dataframe thead th {\n",
       "        text-align: right;\n",
       "    }\n",
       "</style>\n",
       "<table border=\"1\" class=\"dataframe\">\n",
       "  <thead>\n",
       "    <tr style=\"text-align: right;\">\n",
       "      <th></th>\n",
       "      <th>Age</th>\n",
       "      <th>Height</th>\n",
       "      <th>Sex</th>\n",
       "    </tr>\n",
       "  </thead>\n",
       "  <tbody>\n",
       "    <tr>\n",
       "      <th>Patient1</th>\n",
       "      <td>43</td>\n",
       "      <td>181</td>\n",
       "      <td>M</td>\n",
       "    </tr>\n",
       "    <tr>\n",
       "      <th>Patient2</th>\n",
       "      <td>34</td>\n",
       "      <td>172</td>\n",
       "      <td>F</td>\n",
       "    </tr>\n",
       "    <tr>\n",
       "      <th>Patient3</th>\n",
       "      <td>22</td>\n",
       "      <td>189</td>\n",
       "      <td>M</td>\n",
       "    </tr>\n",
       "    <tr>\n",
       "      <th>Patient4</th>\n",
       "      <td>27</td>\n",
       "      <td>167</td>\n",
       "      <td>F</td>\n",
       "    </tr>\n",
       "    <tr>\n",
       "      <th>Patient5</th>\n",
       "      <td>53</td>\n",
       "      <td>168</td>\n",
       "      <td>M</td>\n",
       "    </tr>\n",
       "  </tbody>\n",
       "</table>\n",
       "</div>"
      ],
      "text/plain": [
       "          Age  Height Sex\n",
       "Patient1   43     181   M\n",
       "Patient2   34     172   F\n",
       "Patient3   22     189   M\n",
       "Patient4   27     167   F\n",
       "Patient5   53     168   M"
      ]
     },
     "execution_count": 48,
     "metadata": {},
     "output_type": "execute_result"
    }
   ],
   "source": [
    "mydf.index = [\"Patient1\",\"Patient2\",\"Patient3\",\"Patient4\",\"Patient5\"]\n",
    "mydf"
   ]
  },
  {
   "cell_type": "markdown",
   "metadata": {},
   "source": [
    "**6. Create the DataFrame `mydf2` that is a subset of `mydf` containing only the female entries.**"
   ]
  },
  {
   "cell_type": "code",
   "execution_count": 49,
   "metadata": {},
   "outputs": [
    {
     "data": {
      "text/html": [
       "<div>\n",
       "<style scoped>\n",
       "    .dataframe tbody tr th:only-of-type {\n",
       "        vertical-align: middle;\n",
       "    }\n",
       "\n",
       "    .dataframe tbody tr th {\n",
       "        vertical-align: top;\n",
       "    }\n",
       "\n",
       "    .dataframe thead th {\n",
       "        text-align: right;\n",
       "    }\n",
       "</style>\n",
       "<table border=\"1\" class=\"dataframe\">\n",
       "  <thead>\n",
       "    <tr style=\"text-align: right;\">\n",
       "      <th></th>\n",
       "      <th>Age</th>\n",
       "      <th>Height</th>\n",
       "      <th>Sex</th>\n",
       "    </tr>\n",
       "  </thead>\n",
       "  <tbody>\n",
       "    <tr>\n",
       "      <th>Patient2</th>\n",
       "      <td>34</td>\n",
       "      <td>172</td>\n",
       "      <td>F</td>\n",
       "    </tr>\n",
       "    <tr>\n",
       "      <th>Patient4</th>\n",
       "      <td>27</td>\n",
       "      <td>167</td>\n",
       "      <td>F</td>\n",
       "    </tr>\n",
       "  </tbody>\n",
       "</table>\n",
       "</div>"
      ],
      "text/plain": [
       "          Age  Height Sex\n",
       "Patient2   34     172   F\n",
       "Patient4   27     167   F"
      ]
     },
     "execution_count": 49,
     "metadata": {},
     "output_type": "execute_result"
    }
   ],
   "source": [
    "mydf2 = mydf.loc[mydf.Sex==\"F\",:]\n",
    "mydf2"
   ]
  },
  {
   "cell_type": "markdown",
   "metadata": {},
   "source": [
    "**7. Import the data in `more_patients.tsv` in a DataFrame named `moredf`.**"
   ]
  },
  {
   "cell_type": "code",
   "execution_count": 53,
   "metadata": {},
   "outputs": [
    {
     "data": {
      "text/html": [
       "<div>\n",
       "<style scoped>\n",
       "    .dataframe tbody tr th:only-of-type {\n",
       "        vertical-align: middle;\n",
       "    }\n",
       "\n",
       "    .dataframe tbody tr th {\n",
       "        vertical-align: top;\n",
       "    }\n",
       "\n",
       "    .dataframe thead th {\n",
       "        text-align: right;\n",
       "    }\n",
       "</style>\n",
       "<table border=\"1\" class=\"dataframe\">\n",
       "  <thead>\n",
       "    <tr style=\"text-align: right;\">\n",
       "      <th></th>\n",
       "      <th>Age</th>\n",
       "      <th>Height</th>\n",
       "      <th>Sex</th>\n",
       "    </tr>\n",
       "  </thead>\n",
       "  <tbody>\n",
       "    <tr>\n",
       "      <th>Patient6</th>\n",
       "      <td>18</td>\n",
       "      <td>175</td>\n",
       "      <td>M</td>\n",
       "    </tr>\n",
       "    <tr>\n",
       "      <th>Patient7</th>\n",
       "      <td>60</td>\n",
       "      <td>170</td>\n",
       "      <td>F</td>\n",
       "    </tr>\n",
       "    <tr>\n",
       "      <th>Patient8</th>\n",
       "      <td>36</td>\n",
       "      <td>169</td>\n",
       "      <td>F</td>\n",
       "    </tr>\n",
       "  </tbody>\n",
       "</table>\n",
       "</div>"
      ],
      "text/plain": [
       "           Age  Height Sex\n",
       "Patient6    18     175   M\n",
       "Patient7    60     170   F\n",
       "Patient8    36     169   F"
      ]
     },
     "execution_count": 53,
     "metadata": {},
     "output_type": "execute_result"
    }
   ],
   "source": [
    "moredf = pd.read_csv(\"data/more_patients.tsv\", index_col = 0, sep=\"\\t\")\n",
    "moredf"
   ]
  },
  {
   "cell_type": "markdown",
   "metadata": {},
   "source": [
    "**8. Create a DataFrame `mydf3` by concatenating `mydf` and `moredf`.**"
   ]
  },
  {
   "cell_type": "code",
   "execution_count": 51,
   "metadata": {},
   "outputs": [
    {
     "data": {
      "text/html": [
       "<div>\n",
       "<style scoped>\n",
       "    .dataframe tbody tr th:only-of-type {\n",
       "        vertical-align: middle;\n",
       "    }\n",
       "\n",
       "    .dataframe tbody tr th {\n",
       "        vertical-align: top;\n",
       "    }\n",
       "\n",
       "    .dataframe thead th {\n",
       "        text-align: right;\n",
       "    }\n",
       "</style>\n",
       "<table border=\"1\" class=\"dataframe\">\n",
       "  <thead>\n",
       "    <tr style=\"text-align: right;\">\n",
       "      <th></th>\n",
       "      <th>Age</th>\n",
       "      <th>Height</th>\n",
       "      <th>Sex</th>\n",
       "    </tr>\n",
       "  </thead>\n",
       "  <tbody>\n",
       "    <tr>\n",
       "      <th>Patient1</th>\n",
       "      <td>43</td>\n",
       "      <td>181</td>\n",
       "      <td>M</td>\n",
       "    </tr>\n",
       "    <tr>\n",
       "      <th>Patient2</th>\n",
       "      <td>34</td>\n",
       "      <td>172</td>\n",
       "      <td>F</td>\n",
       "    </tr>\n",
       "    <tr>\n",
       "      <th>Patient3</th>\n",
       "      <td>22</td>\n",
       "      <td>189</td>\n",
       "      <td>M</td>\n",
       "    </tr>\n",
       "    <tr>\n",
       "      <th>Patient4</th>\n",
       "      <td>27</td>\n",
       "      <td>167</td>\n",
       "      <td>F</td>\n",
       "    </tr>\n",
       "    <tr>\n",
       "      <th>Patient5</th>\n",
       "      <td>53</td>\n",
       "      <td>168</td>\n",
       "      <td>M</td>\n",
       "    </tr>\n",
       "    <tr>\n",
       "      <th>Patient6</th>\n",
       "      <td>18</td>\n",
       "      <td>175</td>\n",
       "      <td>M</td>\n",
       "    </tr>\n",
       "    <tr>\n",
       "      <th>Patient7</th>\n",
       "      <td>60</td>\n",
       "      <td>170</td>\n",
       "      <td>F</td>\n",
       "    </tr>\n",
       "    <tr>\n",
       "      <th>Patient8</th>\n",
       "      <td>36</td>\n",
       "      <td>169</td>\n",
       "      <td>F</td>\n",
       "    </tr>\n",
       "  </tbody>\n",
       "</table>\n",
       "</div>"
      ],
      "text/plain": [
       "          Age  Height Sex\n",
       "Patient1   43     181   M\n",
       "Patient2   34     172   F\n",
       "Patient3   22     189   M\n",
       "Patient4   27     167   F\n",
       "Patient5   53     168   M\n",
       "Patient6   18     175   M\n",
       "Patient7   60     170   F\n",
       "Patient8   36     169   F"
      ]
     },
     "execution_count": 51,
     "metadata": {},
     "output_type": "execute_result"
    }
   ],
   "source": [
    "mydf3 = pd.concat([mydf,moredf],axis=0)\n",
    "mydf3"
   ]
  }
 ],
 "metadata": {
  "kernelspec": {
   "display_name": "Python 3",
   "language": "python",
   "name": "python3"
  },
  "language_info": {
   "codemirror_mode": {
    "name": "ipython",
    "version": 3
   },
   "file_extension": ".py",
   "mimetype": "text/x-python",
   "name": "python",
   "nbconvert_exporter": "python",
   "pygments_lexer": "ipython3",
   "version": "3.7.7"
  }
 },
 "nbformat": 4,
 "nbformat_minor": 4
}
