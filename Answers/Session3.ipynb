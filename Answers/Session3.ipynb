{
 "cells": [
  {
   "cell_type": "markdown",
   "metadata": {},
   "source": [
    "# Introduction to Python - Session 3\n",
    "1. Installing and using packages\n",
    "2. Data wrangling:\n",
    "    - The numpy package\n",
    "    - The pandas package\n",
    "\n",
    "SLIDES [HERE](https://docs.google.com/presentation/d/1hMFSNd42hD19_2c5cj5uP17N9uprZWX-PDRobyfhiPQ/export/pdf)"
   ]
  },
  {
   "cell_type": "markdown",
   "metadata": {},
   "source": [
    "## EXERCISE 1 - Introduction to NumPy"
   ]
  },
  {
   "cell_type": "code",
   "execution_count": 31,
   "metadata": {},
   "outputs": [],
   "source": [
    "import numpy as np"
   ]
  },
  {
   "cell_type": "markdown",
   "metadata": {},
   "source": [
    "**1. Create an array `a` of random numbers and shape (3,4).**"
   ]
  },
  {
   "cell_type": "code",
   "execution_count": 40,
   "metadata": {},
   "outputs": [
    {
     "data": {
      "text/plain": [
       "array([[-0.51915848,  0.66748191, -1.00457491,  2.15547403],\n",
       "       [ 0.28215934, -1.23791706,  0.37058204, -0.52457078],\n",
       "       [-0.71350475, -0.31829367,  1.34558394,  0.07894746]])"
      ]
     },
     "execution_count": 40,
     "metadata": {},
     "output_type": "execute_result"
    }
   ],
   "source": [
    "a = np.random.normal(size=(3,4))\n",
    "a"
   ]
  },
  {
   "cell_type": "markdown",
   "metadata": {},
   "source": [
    "**2. Add a fifth column to `a` with values 0, 0.5, and 1.**"
   ]
  },
  {
   "cell_type": "code",
   "execution_count": 45,
   "metadata": {},
   "outputs": [
    {
     "data": {
      "text/plain": [
       "array([[-0.51915848,  0.66748191, -1.00457491,  2.15547403,  0.        ],\n",
       "       [ 0.28215934, -1.23791706,  0.37058204, -0.52457078,  0.5       ],\n",
       "       [-0.71350475, -0.31829367,  1.34558394,  0.07894746,  1.        ]])"
      ]
     },
     "execution_count": 45,
     "metadata": {},
     "output_type": "execute_result"
    }
   ],
   "source": [
    "a = np.column_stack([a,np.array([0,0.5,1])])\n",
    "a"
   ]
  },
  {
   "cell_type": "markdown",
   "metadata": {},
   "source": [
    "**3. Find all values that are greater or equal to 0.5.**"
   ]
  },
  {
   "cell_type": "code",
   "execution_count": 46,
   "metadata": {},
   "outputs": [
    {
     "data": {
      "text/plain": [
       "array([[False,  True, False,  True, False],\n",
       "       [False, False, False, False,  True],\n",
       "       [False, False,  True, False,  True]])"
      ]
     },
     "execution_count": 46,
     "metadata": {},
     "output_type": "execute_result"
    }
   ],
   "source": [
    "a[a >= 0.5]"
   ]
  },
  {
   "cell_type": "markdown",
   "metadata": {},
   "source": [
    "**4. Replace all the first row with NAs.**"
   ]
  },
  {
   "cell_type": "code",
   "execution_count": 47,
   "metadata": {},
   "outputs": [
    {
     "data": {
      "text/plain": [
       "array([[        nan,         nan,         nan,         nan,         nan],\n",
       "       [ 0.28215934, -1.23791706,  0.37058204, -0.52457078,  0.5       ],\n",
       "       [-0.71350475, -0.31829367,  1.34558394,  0.07894746,  1.        ]])"
      ]
     },
     "execution_count": 47,
     "metadata": {},
     "output_type": "execute_result"
    }
   ],
   "source": [
    "a[0,:] = np.nan\n",
    "a"
   ]
  },
  {
   "cell_type": "markdown",
   "metadata": {},
   "source": [
    "**5. Use matrix multiplication against the vector `b = np.array([1, 0, 10])`.**"
   ]
  },
  {
   "cell_type": "code",
   "execution_count": 50,
   "metadata": {},
   "outputs": [
    {
     "data": {
      "text/plain": [
       "array([[nan],\n",
       "       [nan],\n",
       "       [nan],\n",
       "       [nan],\n",
       "       [nan]])"
      ]
     },
     "execution_count": 50,
     "metadata": {},
     "output_type": "execute_result"
    }
   ],
   "source": [
    "b = np.array([1,0,10]).reshape(-1,1)\n",
    "a.T.dot(b)"
   ]
  },
  {
   "cell_type": "markdown",
   "metadata": {},
   "source": [
    "**6. Element-wise multiplication of the same vectors `a` and `b`.** Note that `b` is broadcasted along all rows."
   ]
  },
  {
   "cell_type": "code",
   "execution_count": 51,
   "metadata": {},
   "outputs": [
    {
     "data": {
      "text/plain": [
       "array([[        nan,         nan,         nan,         nan,         nan],\n",
       "       [ 0.        , -0.        ,  0.        , -0.        ,  0.        ],\n",
       "       [-7.13504754, -3.18293673, 13.45583943,  0.78947455, 10.        ]])"
      ]
     },
     "execution_count": 51,
     "metadata": {},
     "output_type": "execute_result"
    }
   ],
   "source": [
    "a * b"
   ]
  },
  {
   "cell_type": "markdown",
   "metadata": {},
   "source": [
    "**7. Calculate the sum, the mean, and the median of each row of `a`. Use the so-called numpy functions.**"
   ]
  },
  {
   "cell_type": "code",
   "execution_count": 58,
   "metadata": {},
   "outputs": [
    {
     "data": {
      "text/plain": [
       "array([        nan, -0.60974646,  1.39273297])"
      ]
     },
     "execution_count": 58,
     "metadata": {},
     "output_type": "execute_result"
    }
   ],
   "source": [
    "np.sum(a, axis=1)"
   ]
  },
  {
   "cell_type": "code",
   "execution_count": 59,
   "metadata": {},
   "outputs": [
    {
     "data": {
      "text/plain": [
       "array([        nan, -0.12194929,  0.27854659])"
      ]
     },
     "execution_count": 59,
     "metadata": {},
     "output_type": "execute_result"
    }
   ],
   "source": [
    "np.mean(a, axis=1)"
   ]
  },
  {
   "cell_type": "code",
   "execution_count": 60,
   "metadata": {},
   "outputs": [
    {
     "data": {
      "text/plain": [
       "array([       nan, 0.28215934, 0.07894746])"
      ]
     },
     "execution_count": 60,
     "metadata": {},
     "output_type": "execute_result"
    }
   ],
   "source": [
    "np.median(a, axis=1)"
   ]
  },
  {
   "cell_type": "markdown",
   "metadata": {},
   "source": [
    "## EXERCISE 2 - Introduction to Pandas"
   ]
  },
  {
   "cell_type": "code",
   "execution_count": 1,
   "metadata": {},
   "outputs": [],
   "source": [
    "import pandas as pd"
   ]
  },
  {
   "cell_type": "markdown",
   "metadata": {},
   "source": [
    "**1. Create the following DataFrame `mydf`, with index `John, Jessica, Steve, Rachel` and columns `Age, Height, Sex`.**\n",
    "\n",
    "```\n",
    "43 \t181 \tM\n",
    "34 \t172 \tF\n",
    "22 \t189 \tM\n",
    "27 \t167 \tF\n",
    "```"
   ]
  },
  {
   "cell_type": "code",
   "execution_count": 2,
   "metadata": {},
   "outputs": [
    {
     "data": {
      "text/html": [
       "<div>\n",
       "<style scoped>\n",
       "    .dataframe tbody tr th:only-of-type {\n",
       "        vertical-align: middle;\n",
       "    }\n",
       "\n",
       "    .dataframe tbody tr th {\n",
       "        vertical-align: top;\n",
       "    }\n",
       "\n",
       "    .dataframe thead th {\n",
       "        text-align: right;\n",
       "    }\n",
       "</style>\n",
       "<table border=\"1\" class=\"dataframe\">\n",
       "  <thead>\n",
       "    <tr style=\"text-align: right;\">\n",
       "      <th></th>\n",
       "      <th>Age</th>\n",
       "      <th>Height</th>\n",
       "      <th>Sex</th>\n",
       "    </tr>\n",
       "  </thead>\n",
       "  <tbody>\n",
       "    <tr>\n",
       "      <th>John</th>\n",
       "      <td>43</td>\n",
       "      <td>181</td>\n",
       "      <td>M</td>\n",
       "    </tr>\n",
       "    <tr>\n",
       "      <th>Jessica</th>\n",
       "      <td>34</td>\n",
       "      <td>172</td>\n",
       "      <td>F</td>\n",
       "    </tr>\n",
       "    <tr>\n",
       "      <th>Steve</th>\n",
       "      <td>22</td>\n",
       "      <td>189</td>\n",
       "      <td>M</td>\n",
       "    </tr>\n",
       "    <tr>\n",
       "      <th>Rachel</th>\n",
       "      <td>27</td>\n",
       "      <td>167</td>\n",
       "      <td>F</td>\n",
       "    </tr>\n",
       "  </tbody>\n",
       "</table>\n",
       "</div>"
      ],
      "text/plain": [
       "         Age  Height Sex\n",
       "John      43     181   M\n",
       "Jessica   34     172   F\n",
       "Steve     22     189   M\n",
       "Rachel    27     167   F"
      ]
     },
     "execution_count": 2,
     "metadata": {},
     "output_type": "execute_result"
    }
   ],
   "source": [
    "mydf = pd.DataFrame({\n",
    "    \"Age\": [43, 34, 22, 27],\n",
    "    \"Height\": [181, 172, 189, 167],\n",
    "    \"Sex\": [\"M\", \"F\", \"M\", \"F\"]\n",
    "}, index=[\"John\",\"Jessica\",\"Steve\",\"Rachel\"])\n",
    "mydf"
   ]
  },
  {
   "cell_type": "markdown",
   "metadata": {},
   "source": [
    "**2. What is the shape of `mydf`?**"
   ]
  },
  {
   "cell_type": "code",
   "execution_count": 3,
   "metadata": {},
   "outputs": [
    {
     "data": {
      "text/plain": [
       "(4, 3)"
      ]
     },
     "execution_count": 3,
     "metadata": {},
     "output_type": "execute_result"
    }
   ],
   "source": [
    "mydf.shape"
   ]
  },
  {
   "cell_type": "markdown",
   "metadata": {},
   "source": [
    "**3. Calculate the average age and height in `mydf`.**"
   ]
  },
  {
   "cell_type": "code",
   "execution_count": 4,
   "metadata": {},
   "outputs": [
    {
     "data": {
      "text/plain": [
       "Height    177.25\n",
       "Age        31.50\n",
       "dtype: float64"
      ]
     },
     "execution_count": 4,
     "metadata": {},
     "output_type": "execute_result"
    }
   ],
   "source": [
    "mydf[[\"Height\",\"Age\"]].mean()"
   ]
  },
  {
   "cell_type": "markdown",
   "metadata": {},
   "source": [
    "**4. Add one row to `mydf`: Georges who is 53 years old, 168cm tall, and Male.**"
   ]
  },
  {
   "cell_type": "code",
   "execution_count": 5,
   "metadata": {},
   "outputs": [
    {
     "data": {
      "text/html": [
       "<div>\n",
       "<style scoped>\n",
       "    .dataframe tbody tr th:only-of-type {\n",
       "        vertical-align: middle;\n",
       "    }\n",
       "\n",
       "    .dataframe tbody tr th {\n",
       "        vertical-align: top;\n",
       "    }\n",
       "\n",
       "    .dataframe thead th {\n",
       "        text-align: right;\n",
       "    }\n",
       "</style>\n",
       "<table border=\"1\" class=\"dataframe\">\n",
       "  <thead>\n",
       "    <tr style=\"text-align: right;\">\n",
       "      <th></th>\n",
       "      <th>Age</th>\n",
       "      <th>Height</th>\n",
       "      <th>Sex</th>\n",
       "    </tr>\n",
       "  </thead>\n",
       "  <tbody>\n",
       "    <tr>\n",
       "      <th>John</th>\n",
       "      <td>43</td>\n",
       "      <td>181</td>\n",
       "      <td>M</td>\n",
       "    </tr>\n",
       "    <tr>\n",
       "      <th>Jessica</th>\n",
       "      <td>34</td>\n",
       "      <td>172</td>\n",
       "      <td>F</td>\n",
       "    </tr>\n",
       "    <tr>\n",
       "      <th>Steve</th>\n",
       "      <td>22</td>\n",
       "      <td>189</td>\n",
       "      <td>M</td>\n",
       "    </tr>\n",
       "    <tr>\n",
       "      <th>Rachel</th>\n",
       "      <td>27</td>\n",
       "      <td>167</td>\n",
       "      <td>F</td>\n",
       "    </tr>\n",
       "    <tr>\n",
       "      <th>Georges</th>\n",
       "      <td>53</td>\n",
       "      <td>168</td>\n",
       "      <td>M</td>\n",
       "    </tr>\n",
       "  </tbody>\n",
       "</table>\n",
       "</div>"
      ],
      "text/plain": [
       "         Age  Height Sex\n",
       "John      43     181   M\n",
       "Jessica   34     172   F\n",
       "Steve     22     189   M\n",
       "Rachel    27     167   F\n",
       "Georges   53     168   M"
      ]
     },
     "execution_count": 5,
     "metadata": {},
     "output_type": "execute_result"
    }
   ],
   "source": [
    "mydf.loc[\"Georges\"] = [53, 168, \"M\"]\n",
    "mydf"
   ]
  },
  {
   "cell_type": "markdown",
   "metadata": {},
   "source": [
    "**5. Change the row names of `mydf` so that the data becomes anonymous.** Use Patient1, Patient2, etc. instead of actual names."
   ]
  },
  {
   "cell_type": "code",
   "execution_count": 12,
   "metadata": {},
   "outputs": [],
   "source": [
    "mydf = mydf.reset_index(drop=True)\n",
    "mydf.index = ['Patient'+str(i) for i in mydf.index]"
   ]
  },
  {
   "cell_type": "code",
   "execution_count": 17,
   "metadata": {},
   "outputs": [
    {
     "data": {
      "text/html": [
       "<div>\n",
       "<style scoped>\n",
       "    .dataframe tbody tr th:only-of-type {\n",
       "        vertical-align: middle;\n",
       "    }\n",
       "\n",
       "    .dataframe tbody tr th {\n",
       "        vertical-align: top;\n",
       "    }\n",
       "\n",
       "    .dataframe thead th {\n",
       "        text-align: right;\n",
       "    }\n",
       "</style>\n",
       "<table border=\"1\" class=\"dataframe\">\n",
       "  <thead>\n",
       "    <tr style=\"text-align: right;\">\n",
       "      <th></th>\n",
       "      <th>Age</th>\n",
       "      <th>Height</th>\n",
       "      <th>Sex</th>\n",
       "    </tr>\n",
       "  </thead>\n",
       "  <tbody>\n",
       "    <tr>\n",
       "      <th>Patient0</th>\n",
       "      <td>43</td>\n",
       "      <td>181</td>\n",
       "      <td>M</td>\n",
       "    </tr>\n",
       "    <tr>\n",
       "      <th>Patient1</th>\n",
       "      <td>34</td>\n",
       "      <td>172</td>\n",
       "      <td>F</td>\n",
       "    </tr>\n",
       "    <tr>\n",
       "      <th>Patient2</th>\n",
       "      <td>22</td>\n",
       "      <td>189</td>\n",
       "      <td>M</td>\n",
       "    </tr>\n",
       "    <tr>\n",
       "      <th>Patient3</th>\n",
       "      <td>27</td>\n",
       "      <td>167</td>\n",
       "      <td>F</td>\n",
       "    </tr>\n",
       "    <tr>\n",
       "      <th>Patient4</th>\n",
       "      <td>53</td>\n",
       "      <td>168</td>\n",
       "      <td>M</td>\n",
       "    </tr>\n",
       "  </tbody>\n",
       "</table>\n",
       "</div>"
      ],
      "text/plain": [
       "          Age  Height Sex\n",
       "Patient0   43     181   M\n",
       "Patient1   34     172   F\n",
       "Patient2   22     189   M\n",
       "Patient3   27     167   F\n",
       "Patient4   53     168   M"
      ]
     },
     "execution_count": 17,
     "metadata": {},
     "output_type": "execute_result"
    }
   ],
   "source": [
    "mydf"
   ]
  },
  {
   "cell_type": "markdown",
   "metadata": {},
   "source": [
    "**6. Create the DataFrame `mydf2` that is a subset of `mydf` containing only the female entries.**"
   ]
  },
  {
   "cell_type": "code",
   "execution_count": 18,
   "metadata": {},
   "outputs": [
    {
     "data": {
      "text/html": [
       "<div>\n",
       "<style scoped>\n",
       "    .dataframe tbody tr th:only-of-type {\n",
       "        vertical-align: middle;\n",
       "    }\n",
       "\n",
       "    .dataframe tbody tr th {\n",
       "        vertical-align: top;\n",
       "    }\n",
       "\n",
       "    .dataframe thead th {\n",
       "        text-align: right;\n",
       "    }\n",
       "</style>\n",
       "<table border=\"1\" class=\"dataframe\">\n",
       "  <thead>\n",
       "    <tr style=\"text-align: right;\">\n",
       "      <th></th>\n",
       "      <th>Age</th>\n",
       "      <th>Height</th>\n",
       "      <th>Sex</th>\n",
       "    </tr>\n",
       "  </thead>\n",
       "  <tbody>\n",
       "    <tr>\n",
       "      <th>Patient1</th>\n",
       "      <td>34</td>\n",
       "      <td>172</td>\n",
       "      <td>F</td>\n",
       "    </tr>\n",
       "    <tr>\n",
       "      <th>Patient3</th>\n",
       "      <td>27</td>\n",
       "      <td>167</td>\n",
       "      <td>F</td>\n",
       "    </tr>\n",
       "  </tbody>\n",
       "</table>\n",
       "</div>"
      ],
      "text/plain": [
       "          Age  Height Sex\n",
       "Patient1   34     172   F\n",
       "Patient3   27     167   F"
      ]
     },
     "execution_count": 18,
     "metadata": {},
     "output_type": "execute_result"
    }
   ],
   "source": [
    "mydf2 = mydf.loc[mydf[\"Sex\"]==\"F\"]\n",
    "mydf2"
   ]
  },
  {
   "cell_type": "markdown",
   "metadata": {},
   "source": [
    "**7. Import the data in `more_patients.tsv` in a DataFrame named `moredf`.**"
   ]
  },
  {
   "cell_type": "code",
   "execution_count": 21,
   "metadata": {},
   "outputs": [
    {
     "data": {
      "text/html": [
       "<div>\n",
       "<style scoped>\n",
       "    .dataframe tbody tr th:only-of-type {\n",
       "        vertical-align: middle;\n",
       "    }\n",
       "\n",
       "    .dataframe tbody tr th {\n",
       "        vertical-align: top;\n",
       "    }\n",
       "\n",
       "    .dataframe thead th {\n",
       "        text-align: right;\n",
       "    }\n",
       "</style>\n",
       "<table border=\"1\" class=\"dataframe\">\n",
       "  <thead>\n",
       "    <tr style=\"text-align: right;\">\n",
       "      <th></th>\n",
       "      <th>Age</th>\n",
       "      <th>Height</th>\n",
       "      <th>Sex</th>\n",
       "    </tr>\n",
       "  </thead>\n",
       "  <tbody>\n",
       "    <tr>\n",
       "      <th>Patient6</th>\n",
       "      <td>18</td>\n",
       "      <td>175</td>\n",
       "      <td>M</td>\n",
       "    </tr>\n",
       "    <tr>\n",
       "      <th>Patient7</th>\n",
       "      <td>60</td>\n",
       "      <td>170</td>\n",
       "      <td>F</td>\n",
       "    </tr>\n",
       "    <tr>\n",
       "      <th>Patient8</th>\n",
       "      <td>36</td>\n",
       "      <td>169</td>\n",
       "      <td>F</td>\n",
       "    </tr>\n",
       "  </tbody>\n",
       "</table>\n",
       "</div>"
      ],
      "text/plain": [
       "           Age  Height Sex\n",
       "Patient6    18     175   M\n",
       "Patient7    60     170   F\n",
       "Patient8    36     169   F"
      ]
     },
     "execution_count": 21,
     "metadata": {},
     "output_type": "execute_result"
    }
   ],
   "source": [
    "moredf = pd.read_table(\"data/more_patients.tsv\", index_col=0)\n",
    "moredf"
   ]
  },
  {
   "cell_type": "markdown",
   "metadata": {},
   "source": [
    "**8. Create a DataFrame `mydf3` by concatenating `mydf` and `moredf`.**"
   ]
  },
  {
   "cell_type": "code",
   "execution_count": 22,
   "metadata": {},
   "outputs": [
    {
     "data": {
      "text/html": [
       "<div>\n",
       "<style scoped>\n",
       "    .dataframe tbody tr th:only-of-type {\n",
       "        vertical-align: middle;\n",
       "    }\n",
       "\n",
       "    .dataframe tbody tr th {\n",
       "        vertical-align: top;\n",
       "    }\n",
       "\n",
       "    .dataframe thead th {\n",
       "        text-align: right;\n",
       "    }\n",
       "</style>\n",
       "<table border=\"1\" class=\"dataframe\">\n",
       "  <thead>\n",
       "    <tr style=\"text-align: right;\">\n",
       "      <th></th>\n",
       "      <th>Age</th>\n",
       "      <th>Height</th>\n",
       "      <th>Sex</th>\n",
       "    </tr>\n",
       "  </thead>\n",
       "  <tbody>\n",
       "    <tr>\n",
       "      <th>Patient0</th>\n",
       "      <td>43</td>\n",
       "      <td>181</td>\n",
       "      <td>M</td>\n",
       "    </tr>\n",
       "    <tr>\n",
       "      <th>Patient1</th>\n",
       "      <td>34</td>\n",
       "      <td>172</td>\n",
       "      <td>F</td>\n",
       "    </tr>\n",
       "    <tr>\n",
       "      <th>Patient2</th>\n",
       "      <td>22</td>\n",
       "      <td>189</td>\n",
       "      <td>M</td>\n",
       "    </tr>\n",
       "    <tr>\n",
       "      <th>Patient3</th>\n",
       "      <td>27</td>\n",
       "      <td>167</td>\n",
       "      <td>F</td>\n",
       "    </tr>\n",
       "    <tr>\n",
       "      <th>Patient4</th>\n",
       "      <td>53</td>\n",
       "      <td>168</td>\n",
       "      <td>M</td>\n",
       "    </tr>\n",
       "    <tr>\n",
       "      <th>Patient6</th>\n",
       "      <td>18</td>\n",
       "      <td>175</td>\n",
       "      <td>M</td>\n",
       "    </tr>\n",
       "    <tr>\n",
       "      <th>Patient7</th>\n",
       "      <td>60</td>\n",
       "      <td>170</td>\n",
       "      <td>F</td>\n",
       "    </tr>\n",
       "    <tr>\n",
       "      <th>Patient8</th>\n",
       "      <td>36</td>\n",
       "      <td>169</td>\n",
       "      <td>F</td>\n",
       "    </tr>\n",
       "  </tbody>\n",
       "</table>\n",
       "</div>"
      ],
      "text/plain": [
       "           Age  Height Sex\n",
       "Patient0    43     181   M\n",
       "Patient1    34     172   F\n",
       "Patient2    22     189   M\n",
       "Patient3    27     167   F\n",
       "Patient4    53     168   M\n",
       "Patient6    18     175   M\n",
       "Patient7    60     170   F\n",
       "Patient8    36     169   F"
      ]
     },
     "execution_count": 22,
     "metadata": {},
     "output_type": "execute_result"
    }
   ],
   "source": [
    "mydf3 = pd.concat([mydf,moredf])\n",
    "mydf3"
   ]
  },
  {
   "cell_type": "markdown",
   "metadata": {},
   "source": [
    "**9. Calculate the number of male and female patients combining the `.groupby` and `.size` methods in `mydf3`.**"
   ]
  },
  {
   "cell_type": "code",
   "execution_count": 24,
   "metadata": {},
   "outputs": [
    {
     "data": {
      "text/plain": [
       "Sex\n",
       "F    4\n",
       "M    4\n",
       "dtype: int64"
      ]
     },
     "execution_count": 24,
     "metadata": {},
     "output_type": "execute_result"
    }
   ],
   "source": [
    "mydf3.groupby(\"Sex\").size()"
   ]
  },
  {
   "cell_type": "markdown",
   "metadata": {},
   "source": [
    "**10. Calculate the average age and height by sex combining the `.groupby` and `.mean` methods in `mydf3`.**"
   ]
  },
  {
   "cell_type": "code",
   "execution_count": 23,
   "metadata": {},
   "outputs": [
    {
     "data": {
      "text/html": [
       "<div>\n",
       "<style scoped>\n",
       "    .dataframe tbody tr th:only-of-type {\n",
       "        vertical-align: middle;\n",
       "    }\n",
       "\n",
       "    .dataframe tbody tr th {\n",
       "        vertical-align: top;\n",
       "    }\n",
       "\n",
       "    .dataframe thead th {\n",
       "        text-align: right;\n",
       "    }\n",
       "</style>\n",
       "<table border=\"1\" class=\"dataframe\">\n",
       "  <thead>\n",
       "    <tr style=\"text-align: right;\">\n",
       "      <th></th>\n",
       "      <th>Age</th>\n",
       "      <th>Height</th>\n",
       "    </tr>\n",
       "    <tr>\n",
       "      <th>Sex</th>\n",
       "      <th></th>\n",
       "      <th></th>\n",
       "    </tr>\n",
       "  </thead>\n",
       "  <tbody>\n",
       "    <tr>\n",
       "      <th>F</th>\n",
       "      <td>39.25</td>\n",
       "      <td>169.50</td>\n",
       "    </tr>\n",
       "    <tr>\n",
       "      <th>M</th>\n",
       "      <td>34.00</td>\n",
       "      <td>178.25</td>\n",
       "    </tr>\n",
       "  </tbody>\n",
       "</table>\n",
       "</div>"
      ],
      "text/plain": [
       "       Age  Height\n",
       "Sex               \n",
       "F    39.25  169.50\n",
       "M    34.00  178.25"
      ]
     },
     "execution_count": 23,
     "metadata": {},
     "output_type": "execute_result"
    }
   ],
   "source": [
    "mydf3.groupby(\"Sex\").mean()"
   ]
  },
  {
   "cell_type": "markdown",
   "metadata": {},
   "source": [
    "**11. Calculate the average age and height by sex using the `.groupby` and `.apply` methods in `mydf3`.**"
   ]
  },
  {
   "cell_type": "code",
   "execution_count": 26,
   "metadata": {},
   "outputs": [
    {
     "data": {
      "text/html": [
       "<div>\n",
       "<style scoped>\n",
       "    .dataframe tbody tr th:only-of-type {\n",
       "        vertical-align: middle;\n",
       "    }\n",
       "\n",
       "    .dataframe tbody tr th {\n",
       "        vertical-align: top;\n",
       "    }\n",
       "\n",
       "    .dataframe thead th {\n",
       "        text-align: right;\n",
       "    }\n",
       "</style>\n",
       "<table border=\"1\" class=\"dataframe\">\n",
       "  <thead>\n",
       "    <tr style=\"text-align: right;\">\n",
       "      <th></th>\n",
       "      <th>Age</th>\n",
       "      <th>Height</th>\n",
       "    </tr>\n",
       "    <tr>\n",
       "      <th>Sex</th>\n",
       "      <th></th>\n",
       "      <th></th>\n",
       "    </tr>\n",
       "  </thead>\n",
       "  <tbody>\n",
       "    <tr>\n",
       "      <th>F</th>\n",
       "      <td>39.25</td>\n",
       "      <td>169.50</td>\n",
       "    </tr>\n",
       "    <tr>\n",
       "      <th>M</th>\n",
       "      <td>34.00</td>\n",
       "      <td>178.25</td>\n",
       "    </tr>\n",
       "  </tbody>\n",
       "</table>\n",
       "</div>"
      ],
      "text/plain": [
       "       Age  Height\n",
       "Sex               \n",
       "F    39.25  169.50\n",
       "M    34.00  178.25"
      ]
     },
     "execution_count": 26,
     "metadata": {},
     "output_type": "execute_result"
    }
   ],
   "source": [
    "mydf3.groupby(\"Sex\")[[\"Age\",\"Height\"]].apply(lambda x: x.mean())"
   ]
  },
  {
   "cell_type": "markdown",
   "metadata": {},
   "source": [
    "**13. Standardize age and height by sex combining the `groupby` and `apply` methods in `mydf3`.**"
   ]
  },
  {
   "cell_type": "code",
   "execution_count": 30,
   "metadata": {},
   "outputs": [
    {
     "data": {
      "text/html": [
       "<div>\n",
       "<style scoped>\n",
       "    .dataframe tbody tr th:only-of-type {\n",
       "        vertical-align: middle;\n",
       "    }\n",
       "\n",
       "    .dataframe tbody tr th {\n",
       "        vertical-align: top;\n",
       "    }\n",
       "\n",
       "    .dataframe thead th {\n",
       "        text-align: right;\n",
       "    }\n",
       "</style>\n",
       "<table border=\"1\" class=\"dataframe\">\n",
       "  <thead>\n",
       "    <tr style=\"text-align: right;\">\n",
       "      <th></th>\n",
       "      <th>Age</th>\n",
       "      <th>Height</th>\n",
       "    </tr>\n",
       "  </thead>\n",
       "  <tbody>\n",
       "    <tr>\n",
       "      <th>Patient0</th>\n",
       "      <td>0.537214</td>\n",
       "      <td>0.308263</td>\n",
       "    </tr>\n",
       "    <tr>\n",
       "      <th>Patient1</th>\n",
       "      <td>-0.365563</td>\n",
       "      <td>1.200961</td>\n",
       "    </tr>\n",
       "    <tr>\n",
       "      <th>Patient2</th>\n",
       "      <td>-0.716285</td>\n",
       "      <td>1.205029</td>\n",
       "    </tr>\n",
       "    <tr>\n",
       "      <th>Patient3</th>\n",
       "      <td>-0.852981</td>\n",
       "      <td>-1.200961</td>\n",
       "    </tr>\n",
       "    <tr>\n",
       "      <th>Patient4</th>\n",
       "      <td>1.134118</td>\n",
       "      <td>-1.148981</td>\n",
       "    </tr>\n",
       "    <tr>\n",
       "      <th>Patient6</th>\n",
       "      <td>-0.955047</td>\n",
       "      <td>-0.364311</td>\n",
       "    </tr>\n",
       "    <tr>\n",
       "      <th>Patient7</th>\n",
       "      <td>1.444845</td>\n",
       "      <td>0.240192</td>\n",
       "    </tr>\n",
       "    <tr>\n",
       "      <th>Patient8</th>\n",
       "      <td>-0.226301</td>\n",
       "      <td>-0.240192</td>\n",
       "    </tr>\n",
       "  </tbody>\n",
       "</table>\n",
       "</div>"
      ],
      "text/plain": [
       "                Age    Height\n",
       "Patient0   0.537214  0.308263\n",
       "Patient1  -0.365563  1.200961\n",
       "Patient2  -0.716285  1.205029\n",
       "Patient3  -0.852981 -1.200961\n",
       "Patient4   1.134118 -1.148981\n",
       "Patient6  -0.955047 -0.364311\n",
       "Patient7   1.444845  0.240192\n",
       "Patient8  -0.226301 -0.240192"
      ]
     },
     "execution_count": 30,
     "metadata": {},
     "output_type": "execute_result"
    }
   ],
   "source": [
    "mydf3.groupby(\"Sex\")[[\"Age\",\"Height\"]].apply(lambda x: (x - x.mean()) / x.std())"
   ]
  },
  {
   "cell_type": "markdown",
   "metadata": {},
   "source": [
    "## EXERCISE 3 - Analyzing COVID-19 data"
   ]
  },
  {
   "cell_type": "markdown",
   "metadata": {},
   "source": [
    "Adapted from: https://www.w3resource.com/python-exercises/project/covid-19/index.php\n",
    "\n",
    "Data Source: https://github.com/CSSEGISandData/COVID-19/tree/master/csse_covid_19_data/csse_covid_19_daily_reports\n",
    "\n",
    "**File naming convention**\n",
    "\n",
    "MM-DD-YYYY.csv in UTC.\n",
    "\n",
    "**Field description**\n",
    "\n",
    "- Province/State: China - province name; US/Canada/Australia/ - city name, state/province name; Others - name of the event (e.g., \"Diamond Princess\" cruise ship); other countries - blank.\n",
    "- Country/Region: country/region name conforming to WHO (will be updated).\n",
    "- Last Update: MM/DD/YYYY HH:mm (24 hour format, in UTC).\n",
    "- Confirmed: the number of confirmed cases. For Hubei Province: from Feb 13 (GMT +8), we report both clinically diagnosed and lab-confirmed cases. For lab-confirmed cases only (Before Feb 17), please refer to who_covid_19_situation_reports. For Italy, diagnosis standard might be changed since Feb 27 to \"slow the growth of new case numbers.\" (Source)\n",
    "- Deaths: the number of deaths.\n",
    "- Recovered: the number of recovered cases."
   ]
  },
  {
   "cell_type": "markdown",
   "metadata": {},
   "source": [
    "**Upload the latest update of the dataset.**"
   ]
  },
  {
   "cell_type": "code",
   "execution_count": null,
   "metadata": {},
   "outputs": [],
   "source": [
    "covid_data= pd.read_csv('https://raw.githubusercontent.com/CSSEGISandData/COVID-19/master/csse_covid_19_data/csse_covid_19_daily_reports/09-05-2020.csv')"
   ]
  },
  {
   "cell_type": "markdown",
   "metadata": {},
   "source": [
    "**1. Write a Python program to display first 5 rows from COVID-19 dataset. Also print the dataset information (`info()`) and check the missing values (`isna()`).**"
   ]
  },
  {
   "cell_type": "code",
   "execution_count": null,
   "metadata": {},
   "outputs": [
    {
     "data": {
      "text/html": [
       "<div>\n",
       "<style scoped>\n",
       "    .dataframe tbody tr th:only-of-type {\n",
       "        vertical-align: middle;\n",
       "    }\n",
       "\n",
       "    .dataframe tbody tr th {\n",
       "        vertical-align: top;\n",
       "    }\n",
       "\n",
       "    .dataframe thead th {\n",
       "        text-align: right;\n",
       "    }\n",
       "</style>\n",
       "<table border=\"1\" class=\"dataframe\">\n",
       "  <thead>\n",
       "    <tr style=\"text-align: right;\">\n",
       "      <th></th>\n",
       "      <th>FIPS</th>\n",
       "      <th>Admin2</th>\n",
       "      <th>Province_State</th>\n",
       "      <th>Country_Region</th>\n",
       "      <th>Last_Update</th>\n",
       "      <th>Lat</th>\n",
       "      <th>Long_</th>\n",
       "      <th>Confirmed</th>\n",
       "      <th>Deaths</th>\n",
       "      <th>Recovered</th>\n",
       "      <th>Active</th>\n",
       "      <th>Combined_Key</th>\n",
       "      <th>Incidence_Rate</th>\n",
       "      <th>Case-Fatality_Ratio</th>\n",
       "    </tr>\n",
       "  </thead>\n",
       "  <tbody>\n",
       "    <tr>\n",
       "      <th>0</th>\n",
       "      <td>NaN</td>\n",
       "      <td>NaN</td>\n",
       "      <td>NaN</td>\n",
       "      <td>Afghanistan</td>\n",
       "      <td>2020-09-06 04:28:33</td>\n",
       "      <td>33.93911</td>\n",
       "      <td>67.709953</td>\n",
       "      <td>38324</td>\n",
       "      <td>1409</td>\n",
       "      <td>30082</td>\n",
       "      <td>6833.0</td>\n",
       "      <td>Afghanistan</td>\n",
       "      <td>98.447555</td>\n",
       "      <td>3.676547</td>\n",
       "    </tr>\n",
       "    <tr>\n",
       "      <th>1</th>\n",
       "      <td>NaN</td>\n",
       "      <td>NaN</td>\n",
       "      <td>NaN</td>\n",
       "      <td>Albania</td>\n",
       "      <td>2020-09-06 04:28:33</td>\n",
       "      <td>41.15330</td>\n",
       "      <td>20.168300</td>\n",
       "      <td>10102</td>\n",
       "      <td>312</td>\n",
       "      <td>5976</td>\n",
       "      <td>3814.0</td>\n",
       "      <td>Albania</td>\n",
       "      <td>351.032038</td>\n",
       "      <td>3.088497</td>\n",
       "    </tr>\n",
       "    <tr>\n",
       "      <th>2</th>\n",
       "      <td>NaN</td>\n",
       "      <td>NaN</td>\n",
       "      <td>NaN</td>\n",
       "      <td>Algeria</td>\n",
       "      <td>2020-09-06 04:28:33</td>\n",
       "      <td>28.03390</td>\n",
       "      <td>1.659600</td>\n",
       "      <td>46071</td>\n",
       "      <td>1549</td>\n",
       "      <td>32481</td>\n",
       "      <td>12041.0</td>\n",
       "      <td>Algeria</td>\n",
       "      <td>105.062495</td>\n",
       "      <td>3.362202</td>\n",
       "    </tr>\n",
       "    <tr>\n",
       "      <th>3</th>\n",
       "      <td>NaN</td>\n",
       "      <td>NaN</td>\n",
       "      <td>NaN</td>\n",
       "      <td>Andorra</td>\n",
       "      <td>2020-09-06 04:28:33</td>\n",
       "      <td>42.50630</td>\n",
       "      <td>1.521800</td>\n",
       "      <td>1215</td>\n",
       "      <td>53</td>\n",
       "      <td>928</td>\n",
       "      <td>234.0</td>\n",
       "      <td>Andorra</td>\n",
       "      <td>1572.510192</td>\n",
       "      <td>4.362140</td>\n",
       "    </tr>\n",
       "    <tr>\n",
       "      <th>4</th>\n",
       "      <td>NaN</td>\n",
       "      <td>NaN</td>\n",
       "      <td>NaN</td>\n",
       "      <td>Angola</td>\n",
       "      <td>2020-09-06 04:28:33</td>\n",
       "      <td>-11.20270</td>\n",
       "      <td>17.873900</td>\n",
       "      <td>2935</td>\n",
       "      <td>117</td>\n",
       "      <td>1192</td>\n",
       "      <td>1626.0</td>\n",
       "      <td>Angola</td>\n",
       "      <td>8.930129</td>\n",
       "      <td>3.986371</td>\n",
       "    </tr>\n",
       "  </tbody>\n",
       "</table>\n",
       "</div>"
      ],
      "text/plain": [
       "   FIPS Admin2 Province_State Country_Region          Last_Update       Lat  \\\n",
       "0   NaN    NaN            NaN    Afghanistan  2020-09-06 04:28:33  33.93911   \n",
       "1   NaN    NaN            NaN        Albania  2020-09-06 04:28:33  41.15330   \n",
       "2   NaN    NaN            NaN        Algeria  2020-09-06 04:28:33  28.03390   \n",
       "3   NaN    NaN            NaN        Andorra  2020-09-06 04:28:33  42.50630   \n",
       "4   NaN    NaN            NaN         Angola  2020-09-06 04:28:33 -11.20270   \n",
       "\n",
       "       Long_  Confirmed  Deaths  Recovered   Active Combined_Key  \\\n",
       "0  67.709953      38324    1409      30082   6833.0  Afghanistan   \n",
       "1  20.168300      10102     312       5976   3814.0      Albania   \n",
       "2   1.659600      46071    1549      32481  12041.0      Algeria   \n",
       "3   1.521800       1215      53        928    234.0      Andorra   \n",
       "4  17.873900       2935     117       1192   1626.0       Angola   \n",
       "\n",
       "   Incidence_Rate  Case-Fatality_Ratio  \n",
       "0       98.447555             3.676547  \n",
       "1      351.032038             3.088497  \n",
       "2      105.062495             3.362202  \n",
       "3     1572.510192             4.362140  \n",
       "4        8.930129             3.986371  "
      ]
     },
     "execution_count": 39,
     "metadata": {},
     "output_type": "execute_result"
    }
   ],
   "source": [
    "covid_data.head(n=5)"
   ]
  },
  {
   "cell_type": "code",
   "execution_count": null,
   "metadata": {},
   "outputs": [
    {
     "name": "stdout",
     "output_type": "stream",
     "text": [
      "Dataset information:\n",
      "<class 'pandas.core.frame.DataFrame'>\n",
      "RangeIndex: 3954 entries, 0 to 3953\n",
      "Data columns (total 14 columns):\n",
      " #   Column               Non-Null Count  Dtype  \n",
      "---  ------               --------------  -----  \n",
      " 0   FIPS                 3259 non-null   float64\n",
      " 1   Admin2               3264 non-null   object \n",
      " 2   Province_State       3786 non-null   object \n",
      " 3   Country_Region       3954 non-null   object \n",
      " 4   Last_Update          3954 non-null   object \n",
      " 5   Lat                  3874 non-null   float64\n",
      " 6   Long_                3874 non-null   float64\n",
      " 7   Confirmed            3954 non-null   int64  \n",
      " 8   Deaths               3954 non-null   int64  \n",
      " 9   Recovered            3954 non-null   int64  \n",
      " 10  Active               3953 non-null   float64\n",
      " 11  Combined_Key         3954 non-null   object \n",
      " 12  Incidence_Rate       3874 non-null   float64\n",
      " 13  Case-Fatality_Ratio  3905 non-null   float64\n",
      "dtypes: float64(6), int64(3), object(5)\n",
      "memory usage: 432.6+ KB\n",
      "None\n"
     ]
    }
   ],
   "source": [
    "print(\"Dataset information:\")\n",
    "print(covid_data.info())"
   ]
  },
  {
   "cell_type": "code",
   "execution_count": null,
   "metadata": {},
   "outputs": [
    {
     "name": "stdout",
     "output_type": "stream",
     "text": [
      "Missing data information:\n",
      "FIPS                   695\n",
      "Admin2                 690\n",
      "Province_State         168\n",
      "Country_Region           0\n",
      "Last_Update              0\n",
      "Lat                     80\n",
      "Long_                   80\n",
      "Confirmed                0\n",
      "Deaths                   0\n",
      "Recovered                0\n",
      "Active                   1\n",
      "Combined_Key             0\n",
      "Incidence_Rate          80\n",
      "Case-Fatality_Ratio     49\n",
      "dtype: int64\n"
     ]
    }
   ],
   "source": [
    "print(\"Missing data information:\")\n",
    "print(covid_data.isna().sum())"
   ]
  },
  {
   "cell_type": "markdown",
   "metadata": {},
   "source": [
    "**2. Write a Python program to get the latest number of confirmed, deaths, recovered and active cases of COVID-19 country-wise.** HINT: You can use the `groupby` fucntion."
   ]
  },
  {
   "cell_type": "code",
   "execution_count": null,
   "metadata": {},
   "outputs": [
    {
     "data": {
      "text/html": [
       "<div>\n",
       "<style scoped>\n",
       "    .dataframe tbody tr th:only-of-type {\n",
       "        vertical-align: middle;\n",
       "    }\n",
       "\n",
       "    .dataframe tbody tr th {\n",
       "        vertical-align: top;\n",
       "    }\n",
       "\n",
       "    .dataframe thead th {\n",
       "        text-align: right;\n",
       "    }\n",
       "</style>\n",
       "<table border=\"1\" class=\"dataframe\">\n",
       "  <thead>\n",
       "    <tr style=\"text-align: right;\">\n",
       "      <th></th>\n",
       "      <th>Confirmed</th>\n",
       "      <th>Deaths</th>\n",
       "      <th>Recovered</th>\n",
       "      <th>Active</th>\n",
       "    </tr>\n",
       "    <tr>\n",
       "      <th>Country_Region</th>\n",
       "      <th></th>\n",
       "      <th></th>\n",
       "      <th></th>\n",
       "      <th></th>\n",
       "    </tr>\n",
       "  </thead>\n",
       "  <tbody>\n",
       "    <tr>\n",
       "      <th>Afghanistan</th>\n",
       "      <td>38324</td>\n",
       "      <td>1409</td>\n",
       "      <td>30082</td>\n",
       "      <td>6833.0</td>\n",
       "    </tr>\n",
       "    <tr>\n",
       "      <th>Albania</th>\n",
       "      <td>10102</td>\n",
       "      <td>312</td>\n",
       "      <td>5976</td>\n",
       "      <td>3814.0</td>\n",
       "    </tr>\n",
       "    <tr>\n",
       "      <th>Algeria</th>\n",
       "      <td>46071</td>\n",
       "      <td>1549</td>\n",
       "      <td>32481</td>\n",
       "      <td>12041.0</td>\n",
       "    </tr>\n",
       "    <tr>\n",
       "      <th>Andorra</th>\n",
       "      <td>1215</td>\n",
       "      <td>53</td>\n",
       "      <td>928</td>\n",
       "      <td>234.0</td>\n",
       "    </tr>\n",
       "    <tr>\n",
       "      <th>Angola</th>\n",
       "      <td>2935</td>\n",
       "      <td>117</td>\n",
       "      <td>1192</td>\n",
       "      <td>1626.0</td>\n",
       "    </tr>\n",
       "    <tr>\n",
       "      <th>...</th>\n",
       "      <td>...</td>\n",
       "      <td>...</td>\n",
       "      <td>...</td>\n",
       "      <td>...</td>\n",
       "    </tr>\n",
       "    <tr>\n",
       "      <th>West Bank and Gaza</th>\n",
       "      <td>25575</td>\n",
       "      <td>177</td>\n",
       "      <td>16661</td>\n",
       "      <td>8737.0</td>\n",
       "    </tr>\n",
       "    <tr>\n",
       "      <th>Western Sahara</th>\n",
       "      <td>10</td>\n",
       "      <td>1</td>\n",
       "      <td>8</td>\n",
       "      <td>1.0</td>\n",
       "    </tr>\n",
       "    <tr>\n",
       "      <th>Yemen</th>\n",
       "      <td>1983</td>\n",
       "      <td>572</td>\n",
       "      <td>1197</td>\n",
       "      <td>214.0</td>\n",
       "    </tr>\n",
       "    <tr>\n",
       "      <th>Zambia</th>\n",
       "      <td>12709</td>\n",
       "      <td>292</td>\n",
       "      <td>11668</td>\n",
       "      <td>749.0</td>\n",
       "    </tr>\n",
       "    <tr>\n",
       "      <th>Zimbabwe</th>\n",
       "      <td>6837</td>\n",
       "      <td>206</td>\n",
       "      <td>5345</td>\n",
       "      <td>1286.0</td>\n",
       "    </tr>\n",
       "  </tbody>\n",
       "</table>\n",
       "<p>188 rows × 4 columns</p>\n",
       "</div>"
      ],
      "text/plain": [
       "                    Confirmed  Deaths  Recovered   Active\n",
       "Country_Region                                           \n",
       "Afghanistan             38324    1409      30082   6833.0\n",
       "Albania                 10102     312       5976   3814.0\n",
       "Algeria                 46071    1549      32481  12041.0\n",
       "Andorra                  1215      53        928    234.0\n",
       "Angola                   2935     117       1192   1626.0\n",
       "...                       ...     ...        ...      ...\n",
       "West Bank and Gaza      25575     177      16661   8737.0\n",
       "Western Sahara             10       1          8      1.0\n",
       "Yemen                    1983     572       1197    214.0\n",
       "Zambia                  12709     292      11668    749.0\n",
       "Zimbabwe                 6837     206       5345   1286.0\n",
       "\n",
       "[188 rows x 4 columns]"
      ]
     },
     "execution_count": 40,
     "metadata": {},
     "output_type": "execute_result"
    }
   ],
   "source": [
    "result = covid_data.groupby('Country_Region')[['Confirmed', 'Deaths', 'Recovered', 'Active']].sum()\n",
    "result"
   ]
  },
  {
   "cell_type": "markdown",
   "metadata": {},
   "source": [
    "**3. Write a Python program to get the Spanish `Province_State` cases of confirmed, deaths, recovered and active cases of COVID-19. Use `sort_values` to sort the values. Save the resulting dataframe as a csv file.**"
   ]
  },
  {
   "cell_type": "code",
   "execution_count": null,
   "metadata": {},
   "outputs": [
    {
     "data": {
      "text/html": [
       "<div>\n",
       "<style scoped>\n",
       "    .dataframe tbody tr th:only-of-type {\n",
       "        vertical-align: middle;\n",
       "    }\n",
       "\n",
       "    .dataframe tbody tr th {\n",
       "        vertical-align: top;\n",
       "    }\n",
       "\n",
       "    .dataframe thead th {\n",
       "        text-align: right;\n",
       "    }\n",
       "</style>\n",
       "<table border=\"1\" class=\"dataframe\">\n",
       "  <thead>\n",
       "    <tr style=\"text-align: right;\">\n",
       "      <th></th>\n",
       "      <th>Confirmed</th>\n",
       "      <th>Deaths</th>\n",
       "      <th>Recovered</th>\n",
       "      <th>Active</th>\n",
       "    </tr>\n",
       "    <tr>\n",
       "      <th>Province_State</th>\n",
       "      <th></th>\n",
       "      <th></th>\n",
       "      <th></th>\n",
       "      <th></th>\n",
       "    </tr>\n",
       "  </thead>\n",
       "  <tbody>\n",
       "    <tr>\n",
       "      <th>Madrid</th>\n",
       "      <td>136901</td>\n",
       "      <td>8728</td>\n",
       "      <td>40736</td>\n",
       "      <td>87437.0</td>\n",
       "    </tr>\n",
       "    <tr>\n",
       "      <th>Catalonia</th>\n",
       "      <td>114987</td>\n",
       "      <td>5761</td>\n",
       "      <td>26203</td>\n",
       "      <td>83023.0</td>\n",
       "    </tr>\n",
       "    <tr>\n",
       "      <th>Aragon</th>\n",
       "      <td>27493</td>\n",
       "      <td>1212</td>\n",
       "      <td>3772</td>\n",
       "      <td>22509.0</td>\n",
       "    </tr>\n",
       "    <tr>\n",
       "      <th>Andalusia</th>\n",
       "      <td>33687</td>\n",
       "      <td>1516</td>\n",
       "      <td>10671</td>\n",
       "      <td>21500.0</td>\n",
       "    </tr>\n",
       "    <tr>\n",
       "      <th>Castilla y Leon</th>\n",
       "      <td>30531</td>\n",
       "      <td>2856</td>\n",
       "      <td>8716</td>\n",
       "      <td>18959.0</td>\n",
       "    </tr>\n",
       "    <tr>\n",
       "      <th>Castilla - La Mancha</th>\n",
       "      <td>25737</td>\n",
       "      <td>3048</td>\n",
       "      <td>6392</td>\n",
       "      <td>16297.0</td>\n",
       "    </tr>\n",
       "    <tr>\n",
       "      <th>C. Valenciana</th>\n",
       "      <td>26710</td>\n",
       "      <td>1478</td>\n",
       "      <td>9970</td>\n",
       "      <td>15262.0</td>\n",
       "    </tr>\n",
       "    <tr>\n",
       "      <th>Pais Vasco</th>\n",
       "      <td>32006</td>\n",
       "      <td>1580</td>\n",
       "      <td>16160</td>\n",
       "      <td>14266.0</td>\n",
       "    </tr>\n",
       "    <tr>\n",
       "      <th>Baleares</th>\n",
       "      <td>9191</td>\n",
       "      <td>243</td>\n",
       "      <td>1533</td>\n",
       "      <td>7415.0</td>\n",
       "    </tr>\n",
       "    <tr>\n",
       "      <th>Canarias</th>\n",
       "      <td>8302</td>\n",
       "      <td>179</td>\n",
       "      <td>1537</td>\n",
       "      <td>6586.0</td>\n",
       "    </tr>\n",
       "    <tr>\n",
       "      <th>Navarra</th>\n",
       "      <td>10547</td>\n",
       "      <td>536</td>\n",
       "      <td>3905</td>\n",
       "      <td>6106.0</td>\n",
       "    </tr>\n",
       "    <tr>\n",
       "      <th>Galicia</th>\n",
       "      <td>15480</td>\n",
       "      <td>652</td>\n",
       "      <td>9204</td>\n",
       "      <td>5624.0</td>\n",
       "    </tr>\n",
       "    <tr>\n",
       "      <th>Murcia</th>\n",
       "      <td>7017</td>\n",
       "      <td>157</td>\n",
       "      <td>2180</td>\n",
       "      <td>4680.0</td>\n",
       "    </tr>\n",
       "    <tr>\n",
       "      <th>La Rioja</th>\n",
       "      <td>6037</td>\n",
       "      <td>374</td>\n",
       "      <td>3107</td>\n",
       "      <td>2556.0</td>\n",
       "    </tr>\n",
       "    <tr>\n",
       "      <th>Extremadura</th>\n",
       "      <td>5583</td>\n",
       "      <td>530</td>\n",
       "      <td>2652</td>\n",
       "      <td>2401.0</td>\n",
       "    </tr>\n",
       "    <tr>\n",
       "      <th>Asturias</th>\n",
       "      <td>3498</td>\n",
       "      <td>335</td>\n",
       "      <td>1063</td>\n",
       "      <td>2100.0</td>\n",
       "    </tr>\n",
       "    <tr>\n",
       "      <th>Cantabria</th>\n",
       "      <td>4561</td>\n",
       "      <td>225</td>\n",
       "      <td>2287</td>\n",
       "      <td>2049.0</td>\n",
       "    </tr>\n",
       "    <tr>\n",
       "      <th>Melilla</th>\n",
       "      <td>413</td>\n",
       "      <td>3</td>\n",
       "      <td>125</td>\n",
       "      <td>285.0</td>\n",
       "    </tr>\n",
       "    <tr>\n",
       "      <th>Ceuta</th>\n",
       "      <td>308</td>\n",
       "      <td>5</td>\n",
       "      <td>163</td>\n",
       "      <td>140.0</td>\n",
       "    </tr>\n",
       "    <tr>\n",
       "      <th>Unknown</th>\n",
       "      <td>0</td>\n",
       "      <td>0</td>\n",
       "      <td>0</td>\n",
       "      <td>0.0</td>\n",
       "    </tr>\n",
       "  </tbody>\n",
       "</table>\n",
       "</div>"
      ],
      "text/plain": [
       "                      Confirmed  Deaths  Recovered   Active\n",
       "Province_State                                             \n",
       "Madrid                   136901    8728      40736  87437.0\n",
       "Catalonia                114987    5761      26203  83023.0\n",
       "Aragon                    27493    1212       3772  22509.0\n",
       "Andalusia                 33687    1516      10671  21500.0\n",
       "Castilla y Leon           30531    2856       8716  18959.0\n",
       "Castilla - La Mancha      25737    3048       6392  16297.0\n",
       "C. Valenciana             26710    1478       9970  15262.0\n",
       "Pais Vasco                32006    1580      16160  14266.0\n",
       "Baleares                   9191     243       1533   7415.0\n",
       "Canarias                   8302     179       1537   6586.0\n",
       "Navarra                   10547     536       3905   6106.0\n",
       "Galicia                   15480     652       9204   5624.0\n",
       "Murcia                     7017     157       2180   4680.0\n",
       "La Rioja                   6037     374       3107   2556.0\n",
       "Extremadura                5583     530       2652   2401.0\n",
       "Asturias                   3498     335       1063   2100.0\n",
       "Cantabria                  4561     225       2287   2049.0\n",
       "Melilla                     413       3        125    285.0\n",
       "Ceuta                       308       5        163    140.0\n",
       "Unknown                       0       0          0      0.0"
      ]
     },
     "execution_count": 41,
     "metadata": {},
     "output_type": "execute_result"
    }
   ],
   "source": [
    "c_data = covid_data.loc[covid_data.Country_Region=='Spain',:]\n",
    "c_data = c_data.loc[:,['Province_State', 'Confirmed', 'Deaths', 'Recovered','Active']]\n",
    "result = c_data.sort_values(by='Active', ascending=False)\n",
    "result = result.set_index(\"Province_State\", drop=True)\n",
    "result\n",
    "result.to_csv(\"results/Spain_COVID_cases.csv\")"
   ]
  },
  {
   "cell_type": "markdown",
   "metadata": {},
   "source": [
    "**4. Make a bar plot of the active cases of the previous DataFrame.** Pandas has some very simple plotting function for DataFrames included, which can often be very convenient. Here, you can use the `DataFrame.plot.bar()` function. For more compplicated plots, the package MatPlotLib is recommended."
   ]
  },
  {
   "cell_type": "code",
   "execution_count": null,
   "metadata": {},
   "outputs": [
    {
     "data": {
      "text/plain": [
       "<matplotlib.axes._subplots.AxesSubplot at 0x22fc85e7748>"
      ]
     },
     "execution_count": 42,
     "metadata": {},
     "output_type": "execute_result"
    },
    {
     "data": {
      "image/png": "[encoded data removed]",
      "text/plain": [
       "<Figure size 432x288 with 1 Axes>"
      ]
     },
     "metadata": {
      "needs_background": "light"
     },
     "output_type": "display_data"
    }
   ],
   "source": [
    "result[\"Active\"].plot.bar()"
   ]
  },
  {
   "cell_type": "markdown",
   "metadata": {},
   "source": [
    "**5. Make a scatter plot of confirmed cases againts deaths for all `Province_State` of the previous DataFrame.** Use the `DataFrame.plot.scatter()` function."
   ]
  },
  {
   "cell_type": "code",
   "execution_count": null,
   "metadata": {},
   "outputs": [
    {
     "data": {
      "text/plain": [
       "<matplotlib.axes._subplots.AxesSubplot at 0x22fc7471208>"
      ]
     },
     "execution_count": 43,
     "metadata": {},
     "output_type": "execute_result"
    },
    {
     "data": {
      "image/png": "[encoded data removed]",
      "text/plain": [
       "<Figure size 432x288 with 1 Axes>"
      ]
     },
     "metadata": {
      "needs_background": "light"
     },
     "output_type": "display_data"
    }
   ],
   "source": [
    "result.plot.scatter(x=\"Confirmed\", y=\"Deaths\")"
   ]
  },
  {
   "cell_type": "markdown",
   "metadata": {},
   "source": [
    "**6. Write a Python program to list countries with no cases of COVID-19 recovered.**"
   ]
  },
  {
   "cell_type": "code",
   "execution_count": null,
   "metadata": {},
   "outputs": [
    {
     "data": {
      "text/html": [
       "<div>\n",
       "<style scoped>\n",
       "    .dataframe tbody tr th:only-of-type {\n",
       "        vertical-align: middle;\n",
       "    }\n",
       "\n",
       "    .dataframe tbody tr th {\n",
       "        vertical-align: top;\n",
       "    }\n",
       "\n",
       "    .dataframe thead th {\n",
       "        text-align: right;\n",
       "    }\n",
       "</style>\n",
       "<table border=\"1\" class=\"dataframe\">\n",
       "  <thead>\n",
       "    <tr style=\"text-align: right;\">\n",
       "      <th></th>\n",
       "      <th>Country_Region</th>\n",
       "      <th>Confirmed</th>\n",
       "      <th>Recovered</th>\n",
       "    </tr>\n",
       "  </thead>\n",
       "  <tbody>\n",
       "    <tr>\n",
       "      <th>0</th>\n",
       "      <td>Sweden</td>\n",
       "      <td>84985</td>\n",
       "      <td>0</td>\n",
       "    </tr>\n",
       "    <tr>\n",
       "      <th>1</th>\n",
       "      <td>Serbia</td>\n",
       "      <td>31772</td>\n",
       "      <td>0</td>\n",
       "    </tr>\n",
       "    <tr>\n",
       "      <th>2</th>\n",
       "      <td>MS Zaandam</td>\n",
       "      <td>9</td>\n",
       "      <td>0</td>\n",
       "    </tr>\n",
       "  </tbody>\n",
       "</table>\n",
       "</div>"
      ],
      "text/plain": [
       "  Country_Region  Confirmed  Recovered\n",
       "0         Sweden      84985          0\n",
       "1         Serbia      31772          0\n",
       "2     MS Zaandam          9          0"
      ]
     },
     "execution_count": 41,
     "metadata": {},
     "output_type": "execute_result"
    }
   ],
   "source": [
    "data = covid_data.groupby('Country_Region')[['Confirmed', 'Deaths', 'Recovered']].sum().reset_index()\n",
    "result = data.loc[data.Recovered == 0,:]\n",
    "result = result.loc[:,['Country_Region', 'Confirmed', 'Recovered']]\n",
    "result = result.sort_values('Confirmed', ascending=False)\n",
    "result = result.loc[result['Confirmed']>0,:] # Remove countries with no cases\n",
    "result = result.reset_index(drop=True)\n",
    "result"
   ]
  }
 ],
 "metadata": {
  "kernelspec": {
   "display_name": "Python 3",
   "language": "python",
   "name": "python3"
  },
  "language_info": {
   "codemirror_mode": {
    "name": "ipython",
    "version": 3
   },
   "file_extension": ".py",
   "mimetype": "text/x-python",
   "name": "python",
   "nbconvert_exporter": "python",
   "pygments_lexer": "ipython3",
   "version": "3.9.5"
  }
 },
 "nbformat": 4,
 "nbformat_minor": 4
}
