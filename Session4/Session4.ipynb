{
 "cells": [
  {
   "cell_type": "markdown",
   "id": "913b1c26-d918-41cf-b0d7-d4781bada609",
   "metadata": {
    "tags": []
   },
   "source": [
    "# Introduciton to python - Basic Data Visualization"
   ]
  },
  {
   "cell_type": "markdown",
   "id": "0abbc143-a9a6-47b1-9aac-c0af30e5d9e2",
   "metadata": {},
   "source": [
    "1. `seaborn` - quick data visualization\n",
    "    - Categorical\n",
    "    - Continuous\n",
    "    - Categorical vs. continuous\n",
    "    - Continuous vs. continuous\n",
    "    - \\>2 variables\n",
    "    - \"meta\" plotting functions\n",
    "2. `matplotlib` - full control of figures\n",
    "    - reproduce a seaborn figure\n",
    "3. Customize your plots\n",
    "    - with `seaborn`\n",
    "    - with `matplotlib`\n",
    "4. Create and save your plot "
   ]
  },
  {
   "cell_type": "markdown",
   "id": "9f73ec22-11ad-4505-a625-00f8a494047b",
   "metadata": {},
   "source": [
    "In python, there are two main packages used to visualize data: [`matplotlib`](https://matplotlib.org/) and [`seaborn`](https://seaborn.pydata.org/). \n",
    "Although `matplotlib` set the base in data visualization in Python, it becomes cumbersome to make quick plots. Hence, the `seaborn` library was born, as a wrapper of the latter adapted to make plotting simple and quick.\n",
    "\n",
    "Their usage is so widespread that many packages depend on these to visualize data. Packages like `pandas`, rely on these libraries to make their visualizations.\n",
    "\n",
    "In this session, we will use the [`palmerpenguins`](https://allisonhorst.github.io/palmerpenguins/articles/intro.html) dataset to workout how we can easily visualize data with these libraries and how they can be further leveraged to edit every bit of your plot."
   ]
  },
  {
   "cell_type": "code",
   "execution_count": null,
   "id": "0aecd937-3e02-4ed1-82ee-cf215e7476c1",
   "metadata": {},
   "outputs": [],
   "source": [
    "# first, load the essential packages to read and wrangle tables\n",
    "import pandas as pd\n",
    "import numpy as np"
   ]
  },
  {
   "cell_type": "code",
   "execution_count": null,
   "id": "d3e41bd8-4cbe-4202-9d4a-9bb4ee9b3a96",
   "metadata": {},
   "outputs": [],
   "source": [
    "# download and read the table from their online repository\n",
    "data = pd.read_csv(\"data/penguins.csv\")\n",
    "data = data.dropna()\n",
    "data"
   ]
  },
  {
   "cell_type": "markdown",
   "id": "d0065f45-5af4-4731-850c-2c30e9af9e06",
   "metadata": {},
   "source": [
    "This dataset contains different types of information on these penguins. We can classify these into categorical or continuous types of data. Below you'll find a summary of what is contained in every variable"
   ]
  },
  {
   "cell_type": "code",
   "execution_count": null,
   "id": "93b61517-c6b6-4ca7-8369-789d943e45e1",
   "metadata": {},
   "outputs": [],
   "source": [
    "data.describe()"
   ]
  },
  {
   "cell_type": "markdown",
   "id": "dbf6b7d9-abfe-47aa-acc3-5dddaa365ae6",
   "metadata": {},
   "source": [
    "## `seaborn` - quick data visualization"
   ]
  },
  {
   "cell_type": "markdown",
   "id": "17d18081-68e1-41ab-8854-1498bf06b2f7",
   "metadata": {},
   "source": [
    "As mentioned above, `seaborn` was born as a `matplotlib` wrapper to facilitate data visualization from dataframes.\n",
    "\n",
    "Now, we will explore some of the different functions that we can use to quickly explore the dataset by asking questions.\n",
    "\n",
    "But first, as usual, we need to load the package:"
   ]
  },
  {
   "cell_type": "code",
   "execution_count": null,
   "id": "53308065-6a17-433a-aae5-ca401681d3de",
   "metadata": {},
   "outputs": [],
   "source": [
    "import seaborn as sns"
   ]
  },
  {
   "cell_type": "markdown",
   "id": "61f43d8d-8a51-4750-8ac3-09b554463fa6",
   "metadata": {
    "tags": []
   },
   "source": [
    "### Categorical - `countplot` and `barplot`\n",
    "\n",
    "Categorical variables contain information on how we can group our observations into similar buckets or classes. For that, barplots are a great tool"
   ]
  },
  {
   "cell_type": "markdown",
   "id": "882b8f46-0096-439a-a485-32330e349f65",
   "metadata": {
    "tags": []
   },
   "source": [
    "**How many penguins of each species are there?**"
   ]
  },
  {
   "cell_type": "markdown",
   "id": "9eebcda6-23c9-4906-aca0-b31948032473",
   "metadata": {},
   "source": [
    "**1. Use `sns.countplot` setting the 'data' and 'x' arguments.**"
   ]
  },
  {
   "cell_type": "code",
   "execution_count": null,
   "id": "9c979ae6-c924-44a5-8db8-ccb29dd3af9e",
   "metadata": {},
   "outputs": [],
   "source": [
    "# try using sns.countplot using the parameters 'data' and 'x'\n",
    "# to introduce the dataframe and the variable to plot counts from, respectively"
   ]
  },
  {
   "cell_type": "markdown",
   "id": "776c64b7-55f7-46ae-aa3f-e5089dc4a705",
   "metadata": {},
   "source": [
    "**2. Save your plot into an object called 'g'.**"
   ]
  },
  {
   "cell_type": "code",
   "execution_count": null,
   "id": "43bb597a-7bea-413f-ba34-6d5f5acb285a",
   "metadata": {},
   "outputs": [],
   "source": []
  },
  {
   "cell_type": "markdown",
   "id": "ee48f257-58fa-4256-a26e-1de34e6abcc6",
   "metadata": {},
   "source": [
    "**3. Relabel the X and Y axes using the methods `.set_xlabel` and `.set_ylabel`**"
   ]
  },
  {
   "cell_type": "code",
   "execution_count": null,
   "id": "bbd60904-16fc-4dec-98bc-84dc5b0f71ea",
   "metadata": {},
   "outputs": [],
   "source": []
  },
  {
   "cell_type": "markdown",
   "id": "59e49932-65f5-4619-8060-2327bc55272c",
   "metadata": {},
   "source": [
    "Note that we didn't need to provide the counts for each species to the function! That sped up the process! However, for the next visualizations we'll need to be more explicit... So, let's count the classes first."
   ]
  },
  {
   "cell_type": "markdown",
   "id": "25ab8824-762b-49b4-826b-7ecc484e239a",
   "metadata": {},
   "source": [
    "**4. Switch to `sns.barplot` to visualize the number of penguins of each species.** First, you'll need to create a new dataframe counting the number of times each penguin species appears. Try to combine the `pandas.DataFrame` methods `.groupby`, `.size`, `reset_index`. Now, you'll have to define both axes variables to the ploting function."
   ]
  },
  {
   "cell_type": "code",
   "execution_count": null,
   "id": "0aa7b418-d1e5-469e-b25d-0b53b993f422",
   "metadata": {},
   "outputs": [],
   "source": [
    "# alternatively, count the penguins for each species and plot"
   ]
  },
  {
   "cell_type": "markdown",
   "id": "a7f39fe2-9c0a-47fe-981d-0f3292c379bb",
   "metadata": {},
   "source": [
    "**How many penguins from each island and species are there?**\n",
    "\n",
    "Note that colors and x-axis are redundant in the plot above. Maybe we can exploit that to visualize more information. The \"hue\" parameter allows you to further split the bar plot into the selected category. See how grouping our data makes our lifes simpler to ask more complicated questions."
   ]
  },
  {
   "cell_type": "code",
   "execution_count": null,
   "id": "39a07d90-5290-4f8f-b1c8-fdf0179d8f24",
   "metadata": {},
   "outputs": [],
   "source": [
    "# try using the 'hue' parameter in sns.barplot"
   ]
  },
  {
   "cell_type": "markdown",
   "id": "feee7d98-1e9c-4644-9fb6-533c28c9a406",
   "metadata": {
    "tags": []
   },
   "source": [
    "### Continuous - `histplot` and `kdeplot`\n",
    "\n",
    "Continuous variables give us numerical information on the observations, providing us with a distribution of values for a certain feature, like penguins bill length."
   ]
  },
  {
   "cell_type": "markdown",
   "id": "2700b218-df49-4c35-8aa8-f664a1314439",
   "metadata": {},
   "source": [
    "**What is the distribution of bill lengths?**"
   ]
  },
  {
   "cell_type": "code",
   "execution_count": null,
   "id": "94bcdde1-c5d8-480d-a6d8-d16097f712cb",
   "metadata": {},
   "outputs": [],
   "source": [
    "# the 'bins' parameter sets the number of bins to partition our countinuous variable"
   ]
  },
  {
   "cell_type": "markdown",
   "id": "2bef6c47-8fd8-4a21-bb5a-b0b0bedde98c",
   "metadata": {},
   "source": [
    "**What is the distribution of bill lengths across species?**"
   ]
  },
  {
   "cell_type": "code",
   "execution_count": null,
   "id": "f4e9f5ad-a625-4005-bec1-7614a9a5541c",
   "metadata": {},
   "outputs": [],
   "source": []
  },
  {
   "cell_type": "code",
   "execution_count": null,
   "id": "7b275d2e-c969-478e-90db-660ebd910e6b",
   "metadata": {},
   "outputs": [],
   "source": []
  },
  {
   "cell_type": "markdown",
   "id": "b71102aa-413d-457b-a6b8-383241dd6edc",
   "metadata": {
    "tags": []
   },
   "source": [
    "### Categorical vs. Continuous - `boxplot`, `violinplot`,`stripplot`,`swarmplot`\n",
    "\n",
    "We also find a series of plots for those moments when we need to know how continuous variables may differ between groups"
   ]
  },
  {
   "cell_type": "markdown",
   "id": "078a8595-402a-45fb-b2e3-718d1c9d8c0a",
   "metadata": {},
   "source": [
    "**What are the distributions of bill length between sexes across species?**"
   ]
  },
  {
   "cell_type": "code",
   "execution_count": null,
   "id": "14eae426-5fd6-43fc-8f10-676e9c6942e2",
   "metadata": {},
   "outputs": [],
   "source": []
  },
  {
   "cell_type": "markdown",
   "id": "5ac7b4ab-3ac2-47f6-bd22-bb04e7d6fec1",
   "metadata": {},
   "source": [
    "Now try using violin plots."
   ]
  },
  {
   "cell_type": "code",
   "execution_count": null,
   "id": "6f443254-6391-477f-8cc0-866f8aa16407",
   "metadata": {},
   "outputs": [],
   "source": []
  },
  {
   "cell_type": "markdown",
   "id": "1ed610aa-758d-47d7-8b34-8aecb20f3315",
   "metadata": {},
   "source": [
    "And strip plots, a.k.a. jitter plots."
   ]
  },
  {
   "cell_type": "code",
   "execution_count": null,
   "id": "317ec2b1-e4c5-4060-8731-7ea475c9c0f1",
   "metadata": {},
   "outputs": [],
   "source": []
  },
  {
   "cell_type": "markdown",
   "id": "9d5ea43b-55ef-4c67-af9d-d3102c2edc28",
   "metadata": {},
   "source": [
    "Or swarm plots."
   ]
  },
  {
   "cell_type": "code",
   "execution_count": null,
   "id": "78801793-9249-4338-a2d2-2f75f2997583",
   "metadata": {},
   "outputs": [],
   "source": []
  },
  {
   "cell_type": "markdown",
   "id": "08265335-49d3-4270-9f98-a14d5cd5537b",
   "metadata": {
    "tags": []
   },
   "source": [
    "### Continuous vs. Continuous - `scatterplot`, `kdeplot`, `jointplot`\n",
    "\n",
    "Finally, sometimes we are interested in how two variables continuous variables covariate together."
   ]
  },
  {
   "cell_type": "markdown",
   "id": "f13d84d6-ae79-434f-8e02-e12be9b92748",
   "metadata": {},
   "source": [
    "**What is the relationship between bill length and body mass in penguins of different species?**"
   ]
  },
  {
   "cell_type": "code",
   "execution_count": null,
   "id": "7d2bab1b-7110-45b8-a4bb-c31decd1b6a4",
   "metadata": {},
   "outputs": [],
   "source": []
  },
  {
   "cell_type": "code",
   "execution_count": null,
   "id": "8e311719-d2df-44ff-9a37-204da75cc364",
   "metadata": {},
   "outputs": [],
   "source": []
  },
  {
   "cell_type": "code",
   "execution_count": null,
   "id": "81b3a880-f5b6-4d3a-b2be-347076b5f2c1",
   "metadata": {},
   "outputs": [],
   "source": []
  },
  {
   "cell_type": "markdown",
   "id": "85547db2-b7ab-4989-95e5-88624d6568f0",
   "metadata": {},
   "source": [
    "With `jointplot` we get three for the price of one!"
   ]
  },
  {
   "cell_type": "markdown",
   "id": "d5884449-44ae-4c27-bb65-6cbb123afaaa",
   "metadata": {
    "tags": []
   },
   "source": [
    "### >2 variables"
   ]
  },
  {
   "cell_type": "markdown",
   "id": "432da004-9638-4277-a077-e2bb6f37abf2",
   "metadata": {},
   "source": [
    "**What is the relationship between all continuous variables considering all penguin species?**"
   ]
  },
  {
   "cell_type": "markdown",
   "id": "b05c0559-c8e4-4eb3-8c49-cfe46330d451",
   "metadata": {
    "tags": []
   },
   "source": [
    "#### `pairplot`"
   ]
  },
  {
   "cell_type": "code",
   "execution_count": null,
   "id": "79b6396a-f863-475c-b7d4-c96a1f1f1765",
   "metadata": {},
   "outputs": [],
   "source": []
  },
  {
   "cell_type": "markdown",
   "id": "4d74c9e4-cd49-434b-b86c-30607c134f3e",
   "metadata": {
    "tags": []
   },
   "source": [
    "#### `heatmap`"
   ]
  },
  {
   "cell_type": "code",
   "execution_count": null,
   "id": "b9f3fced-4acb-4a2f-a763-313eba727afc",
   "metadata": {},
   "outputs": [],
   "source": []
  },
  {
   "cell_type": "markdown",
   "id": "1519ec23-a5a3-4b2a-88e0-5f473a1072af",
   "metadata": {
    "tags": []
   },
   "source": [
    "#### `clustermap`"
   ]
  },
  {
   "cell_type": "code",
   "execution_count": null,
   "id": "4fab8d0c-1b8b-4fcd-9e23-075171b3014a",
   "metadata": {},
   "outputs": [],
   "source": []
  },
  {
   "cell_type": "markdown",
   "id": "fb06c44f-fdee-4388-b181-f996f167eb70",
   "metadata": {
    "tags": []
   },
   "source": [
    "### \"meta\" plotting functions"
   ]
  },
  {
   "cell_type": "markdown",
   "id": "1d079d07-58bb-468c-8e8d-f2326e475c26",
   "metadata": {
    "tags": []
   },
   "source": [
    "#### `catplot`"
   ]
  },
  {
   "cell_type": "markdown",
   "id": "25ae2c90-bdc3-464c-a8a5-08dceea0b66f",
   "metadata": {},
   "source": [
    "**How many penguins from each island and species of each sex are there?**"
   ]
  },
  {
   "cell_type": "code",
   "execution_count": null,
   "id": "366f1982-e822-4cf5-bd32-c6717846ab88",
   "metadata": {},
   "outputs": [],
   "source": [
    "# try using the 'hue' and 'col_wrap' parameters in sns.catplot"
   ]
  },
  {
   "cell_type": "markdown",
   "id": "be56e2c4-be6f-401f-bcb5-5d98c2c8b4c1",
   "metadata": {
    "tags": []
   },
   "source": [
    "#### `lineplot`"
   ]
  },
  {
   "cell_type": "markdown",
   "id": "20d44637-5b2b-4787-8471-369f66fade9a",
   "metadata": {},
   "source": [
    "**What is the relationship between body mass and bill length across species and sexes?**"
   ]
  },
  {
   "cell_type": "code",
   "execution_count": null,
   "id": "befe40d4-c561-4bb5-aa62-aa25e2dcd436",
   "metadata": {},
   "outputs": [],
   "source": []
  },
  {
   "cell_type": "markdown",
   "id": "35a94f8c-fd43-427f-b2f5-19504f77d2d8",
   "metadata": {
    "tags": []
   },
   "source": [
    "## `matplotlib` - full control of the plot"
   ]
  },
  {
   "cell_type": "code",
   "execution_count": null,
   "id": "f4dd560e-7811-441d-82ad-4934d54f894d",
   "metadata": {},
   "outputs": [],
   "source": [
    "import matplotlib.pyplot as plt"
   ]
  },
  {
   "cell_type": "markdown",
   "id": "9a513815-5b48-4a7c-b078-bce4dbad00da",
   "metadata": {},
   "source": [
    "### reproduce a `seaborn` figure"
   ]
  },
  {
   "cell_type": "code",
   "execution_count": null,
   "id": "a46054ba-834f-4136-8915-4907584ddd42",
   "metadata": {},
   "outputs": [],
   "source": []
  },
  {
   "cell_type": "code",
   "execution_count": null,
   "id": "384cbab1-1e86-4859-9e30-51e698bac119",
   "metadata": {},
   "outputs": [],
   "source": []
  },
  {
   "cell_type": "code",
   "execution_count": null,
   "id": "3c538c8c-6b63-4bb8-bef9-4c5422630144",
   "metadata": {},
   "outputs": [],
   "source": []
  },
  {
   "cell_type": "markdown",
   "id": "f77dc845-d3b1-44f9-b84a-2920c01ae08f",
   "metadata": {
    "tags": []
   },
   "source": [
    "## Customize your plots"
   ]
  },
  {
   "cell_type": "markdown",
   "id": "027cccff-02ba-47d8-b234-e856cff3ca08",
   "metadata": {},
   "source": [
    "### `matplotlib`"
   ]
  },
  {
   "cell_type": "code",
   "execution_count": null,
   "id": "70416c19-565d-4e61-b7c0-264bb8102ccc",
   "metadata": {},
   "outputs": [],
   "source": [
    "import matplotlib.font_manager as font_manager"
   ]
  },
  {
   "cell_type": "code",
   "execution_count": null,
   "id": "163d0729-c09a-4273-97d6-6188e0d0288c",
   "metadata": {
    "tags": []
   },
   "outputs": [],
   "source": []
  },
  {
   "cell_type": "markdown",
   "id": "9c6af4e0-ad7c-4792-ad26-3c389b9de6a3",
   "metadata": {
    "tags": []
   },
   "source": [
    "### `seaborn`"
   ]
  },
  {
   "cell_type": "code",
   "execution_count": null,
   "id": "f47bcf91-5aff-4e78-afcc-7ce2ccd313c5",
   "metadata": {},
   "outputs": [],
   "source": []
  },
  {
   "cell_type": "markdown",
   "id": "eece0d7a-8583-4233-8ab0-f4ddf9630053",
   "metadata": {},
   "source": [
    "## Create and save your plot"
   ]
  },
  {
   "cell_type": "code",
   "execution_count": null,
   "id": "8bfccb80-448d-4263-9da3-f20a7dac9652",
   "metadata": {
    "scrolled": true,
    "tags": []
   },
   "outputs": [],
   "source": [
    "help(plt.savefig)"
   ]
  },
  {
   "cell_type": "code",
   "execution_count": null,
   "id": "aa9110a8-c028-4826-b4ea-56293bbf505c",
   "metadata": {},
   "outputs": [],
   "source": [
    "# set your figure size\n",
    "plt.figure(figsize=(4,4))\n",
    "# place your plot here\n",
    "g = sns.scatterplot(data=data, x=\"body_mass_g\", y=\"bill_length_mm\", hue=\"species\", alpha=0.5)\n",
    "g.set_xlabel(\"Body Mass (g)\")\n",
    "g.set_ylabel(\"Bill Length (mm)\")\n",
    "# save\n",
    "plt.savefig(\"myfigure.png\", dpi=300)\n",
    "# show\n",
    "plt.show()"
   ]
  },
  {
   "cell_type": "markdown",
   "id": "39eb36e8-920c-4c22-a32a-a92701e7fea6",
   "metadata": {},
   "source": [
    "![](myfigure.png)"
   ]
  }
 ],
 "metadata": {
  "kernelspec": {
   "display_name": "Python 3 (ipykernel)",
   "language": "python",
   "name": "python3"
  },
  "language_info": {
   "codemirror_mode": {
    "name": "ipython",
    "version": 3
   },
   "file_extension": ".py",
   "mimetype": "text/x-python",
   "name": "python",
   "nbconvert_exporter": "python",
   "pygments_lexer": "ipython3",
   "version": "3.7.10"
  }
 },
 "nbformat": 4,
 "nbformat_minor": 5
}
