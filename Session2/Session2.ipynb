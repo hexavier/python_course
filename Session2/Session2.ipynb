{
 "cells": [
  {
   "cell_type": "markdown",
   "metadata": {},
   "source": [
    "# Introduction to Python - Session 2\n",
    "1. Flow control\n",
    "    - if...else statements\n",
    "    - for and while loops\n",
    "2. List comprehension\n",
    "3. Reading and writing files\n",
    "4. Functions\n",
    "\n",
    "SLIDES [HERE](https://docs.google.com/presentation/d/19ExGEzgNodpCniN_Tr9W2RK2WUzACqMaOGwvxfzj__k/export/pdf)"
   ]
  },
  {
   "cell_type": "markdown",
   "metadata": {},
   "source": [
    "## EXERCISE 1 - if...else statements"
   ]
  },
  {
   "cell_type": "code",
   "execution_count": 4,
   "metadata": {},
   "outputs": [],
   "source": [
    "fruit = [\"kiwi\", \"apple\", \"pear\", \"grape\"]\n",
    "fruit2 = [\"cherry\", \"strawberry\", \"blueberry\", \"peach\"]"
   ]
  },
  {
   "cell_type": "markdown",
   "metadata": {},
   "source": [
    "**1. Use an `if` statement and the `in` function to check whether \"apple\" is present in `fruit`. If yes, print “There is an apple!”).**"
   ]
  },
  {
   "cell_type": "code",
   "execution_count": 2,
   "metadata": {},
   "outputs": [
    {
     "name": "stdout",
     "output_type": "stream",
     "text": [
      "There is an apple!\n"
     ]
    }
   ],
   "source": [
    "if \"apple\" in fruit:\n",
    "    print(\"There is an apple!\")"
   ]
  },
  {
   "cell_type": "markdown",
   "metadata": {},
   "source": [
    "**2. Use an `if` statement and the `in` function to check whether \"grapefruit\" is present in `fruit`. If no, test whether \"pear\" is found. Print accordingly.**"
   ]
  },
  {
   "cell_type": "code",
   "execution_count": 3,
   "metadata": {},
   "outputs": [
    {
     "name": "stdout",
     "output_type": "stream",
     "text": [
      "There is no grapefruit, but there is a pear!\n"
     ]
    }
   ],
   "source": [
    "if \"grapefruit\" in fruit:\n",
    "    print(\"There is a grapefruit!\")\n",
    "elif \"pear\" in fruit:\n",
    "    print(\"There is no grapefruit, but there is a pear!\")"
   ]
  },
  {
   "cell_type": "markdown",
   "metadata": {},
   "source": [
    "**3. Add an `else` section in case neither \"grapefruit\" nor \"pear\" is found in `fruit`. Test your `if` statement also on `fruit2`:**"
   ]
  },
  {
   "cell_type": "code",
   "execution_count": 5,
   "metadata": {},
   "outputs": [
    {
     "name": "stdout",
     "output_type": "stream",
     "text": [
      "There is no grapefruit, but there is a pear!\n"
     ]
    }
   ],
   "source": [
    "if \"grapefruit\" in fruit:\n",
    "    print(\"There is a grapefruit!\")\n",
    "elif \"pear\" in fruit:\n",
    "    print(\"There is no grapefruit, but there is a pear!\")\n",
    "else:\n",
    "    print(\"No grapefruit and no pear can be found.\")"
   ]
  },
  {
   "cell_type": "code",
   "execution_count": 6,
   "metadata": {},
   "outputs": [
    {
     "name": "stdout",
     "output_type": "stream",
     "text": [
      "No grapefruit and no pear can be found.\n"
     ]
    }
   ],
   "source": [
    "if \"grapefruit\" in fruit2:\n",
    "    print(\"There is a grapefruit!\")\n",
    "elif \"pear\" in fruit2:\n",
    "    print(\"There is no grapefruit, but there is a pear!\")\n",
    "else:\n",
    "    print(\"No grapefruit and no pear can be found.\")"
   ]
  },
  {
   "cell_type": "markdown",
   "metadata": {},
   "source": [
    "**4. Check whether the sequence \"ATGGCGGTCGAATAG\" contains a stop codon (TAG, TAA, TGA). Ignore the frame.**"
   ]
  },
  {
   "cell_type": "code",
   "execution_count": 9,
   "metadata": {},
   "outputs": [
    {
     "name": "stdout",
     "output_type": "stream",
     "text": [
      "The sequence ATGGCGGTCGAATAG contains a Stop codon.\n"
     ]
    }
   ],
   "source": [
    "sequence = \"ATGGCGGTCGAATAG\"\n",
    "if (\"TAG\" in sequence) or (\"TAA\" in sequence) or (\"TGA\" in sequence):\n",
    "    print(\"The sequence %s contains a Stop codon.\" % sequence)\n",
    "else:\n",
    "    print(\"The sequence %s does not contain any Stop codon.\" % sequence)"
   ]
  },
  {
   "cell_type": "markdown",
   "metadata": {},
   "source": [
    "## EXERCISE 2 - For loops"
   ]
  },
  {
   "cell_type": "markdown",
   "metadata": {},
   "source": [
    "**1. Write a `for` loop that iterates over the sequence of numbers 2 to 10 (both included), and prints the square of each number (function ` **2`).**"
   ]
  },
  {
   "cell_type": "code",
   "execution_count": 7,
   "metadata": {},
   "outputs": [
    {
     "name": "stdout",
     "output_type": "stream",
     "text": [
      "4\n",
      "9\n",
      "16\n",
      "25\n",
      "36\n",
      "49\n",
      "64\n",
      "81\n",
      "100\n"
     ]
    }
   ],
   "source": [
    "for n in range(2,11):\n",
    "    print(n**2)"
   ]
  },
  {
   "cell_type": "markdown",
   "metadata": {},
   "source": [
    "**2. Write a `for` loop that iterates over the sequence of numbers 5 to 15 (both included), and prints a new list of 2 elements containing the number and its square.**"
   ]
  },
  {
   "cell_type": "code",
   "execution_count": 8,
   "metadata": {},
   "outputs": [
    {
     "name": "stdout",
     "output_type": "stream",
     "text": [
      "[5, 25]\n",
      "[6, 36]\n",
      "[7, 49]\n",
      "[8, 64]\n",
      "[9, 81]\n",
      "[10, 100]\n",
      "[11, 121]\n",
      "[12, 144]\n",
      "[13, 169]\n",
      "[14, 196]\n",
      "[15, 225]\n"
     ]
    }
   ],
   "source": [
    "for n in range(5,16):\n",
    "    new_list = [n,n**2]\n",
    "    print(new_list)"
   ]
  },
  {
   "cell_type": "markdown",
   "metadata": {},
   "source": [
    "**3. Write a program where you print out all positive numbers up to 1000 that can be divided by 13, or 17, or both.**"
   ]
  },
  {
   "cell_type": "code",
   "execution_count": 4,
   "metadata": {},
   "outputs": [
    {
     "name": "stdout",
     "output_type": "stream",
     "text": [
      "Number 13 is divisible by [13]\n",
      "Number 17 is divisible by [17]\n",
      "Number 26 is divisible by [13]\n",
      "Number 34 is divisible by [17]\n",
      "Number 39 is divisible by [13]\n",
      "Number 51 is divisible by [17]\n",
      "Number 52 is divisible by [13]\n",
      "Number 65 is divisible by [13]\n",
      "Number 68 is divisible by [17]\n",
      "Number 78 is divisible by [13]\n",
      "Number 85 is divisible by [17]\n",
      "Number 91 is divisible by [13]\n",
      "Number 102 is divisible by [17]\n",
      "Number 104 is divisible by [13]\n",
      "Number 117 is divisible by [13]\n",
      "Number 119 is divisible by [17]\n",
      "Number 130 is divisible by [13]\n",
      "Number 136 is divisible by [17]\n",
      "Number 143 is divisible by [13]\n",
      "Number 153 is divisible by [17]\n",
      "Number 156 is divisible by [13]\n",
      "Number 169 is divisible by [13]\n",
      "Number 170 is divisible by [17]\n",
      "Number 182 is divisible by [13]\n",
      "Number 187 is divisible by [17]\n",
      "Number 195 is divisible by [13]\n",
      "Number 204 is divisible by [17]\n",
      "Number 208 is divisible by [13]\n",
      "Number 221 is divisible by [13, 17]\n",
      "Number 234 is divisible by [13]\n",
      "Number 238 is divisible by [17]\n",
      "Number 247 is divisible by [13]\n",
      "Number 255 is divisible by [17]\n",
      "Number 260 is divisible by [13]\n",
      "Number 272 is divisible by [17]\n",
      "Number 273 is divisible by [13]\n",
      "Number 286 is divisible by [13]\n",
      "Number 289 is divisible by [17]\n",
      "Number 299 is divisible by [13]\n",
      "Number 306 is divisible by [17]\n",
      "Number 312 is divisible by [13]\n",
      "Number 323 is divisible by [17]\n",
      "Number 325 is divisible by [13]\n",
      "Number 338 is divisible by [13]\n",
      "Number 340 is divisible by [17]\n",
      "Number 351 is divisible by [13]\n",
      "Number 357 is divisible by [17]\n",
      "Number 364 is divisible by [13]\n",
      "Number 374 is divisible by [17]\n",
      "Number 377 is divisible by [13]\n",
      "Number 390 is divisible by [13]\n",
      "Number 391 is divisible by [17]\n",
      "Number 403 is divisible by [13]\n",
      "Number 408 is divisible by [17]\n",
      "Number 416 is divisible by [13]\n",
      "Number 425 is divisible by [17]\n",
      "Number 429 is divisible by [13]\n",
      "Number 442 is divisible by [13, 17]\n",
      "Number 455 is divisible by [13]\n",
      "Number 459 is divisible by [17]\n",
      "Number 468 is divisible by [13]\n",
      "Number 476 is divisible by [17]\n",
      "Number 481 is divisible by [13]\n",
      "Number 493 is divisible by [17]\n",
      "Number 494 is divisible by [13]\n",
      "Number 507 is divisible by [13]\n",
      "Number 510 is divisible by [17]\n",
      "Number 520 is divisible by [13]\n",
      "Number 527 is divisible by [17]\n",
      "Number 533 is divisible by [13]\n",
      "Number 544 is divisible by [17]\n",
      "Number 546 is divisible by [13]\n",
      "Number 559 is divisible by [13]\n",
      "Number 561 is divisible by [17]\n",
      "Number 572 is divisible by [13]\n",
      "Number 578 is divisible by [17]\n",
      "Number 585 is divisible by [13]\n",
      "Number 595 is divisible by [17]\n",
      "Number 598 is divisible by [13]\n",
      "Number 611 is divisible by [13]\n",
      "Number 612 is divisible by [17]\n",
      "Number 624 is divisible by [13]\n",
      "Number 629 is divisible by [17]\n",
      "Number 637 is divisible by [13]\n",
      "Number 646 is divisible by [17]\n",
      "Number 650 is divisible by [13]\n",
      "Number 663 is divisible by [13, 17]\n",
      "Number 676 is divisible by [13]\n",
      "Number 680 is divisible by [17]\n",
      "Number 689 is divisible by [13]\n",
      "Number 697 is divisible by [17]\n",
      "Number 702 is divisible by [13]\n",
      "Number 714 is divisible by [17]\n",
      "Number 715 is divisible by [13]\n",
      "Number 728 is divisible by [13]\n",
      "Number 731 is divisible by [17]\n",
      "Number 741 is divisible by [13]\n",
      "Number 748 is divisible by [17]\n",
      "Number 754 is divisible by [13]\n",
      "Number 765 is divisible by [17]\n",
      "Number 767 is divisible by [13]\n",
      "Number 780 is divisible by [13]\n",
      "Number 782 is divisible by [17]\n",
      "Number 793 is divisible by [13]\n",
      "Number 799 is divisible by [17]\n",
      "Number 806 is divisible by [13]\n",
      "Number 816 is divisible by [17]\n",
      "Number 819 is divisible by [13]\n",
      "Number 832 is divisible by [13]\n",
      "Number 833 is divisible by [17]\n",
      "Number 845 is divisible by [13]\n",
      "Number 850 is divisible by [17]\n",
      "Number 858 is divisible by [13]\n",
      "Number 867 is divisible by [17]\n",
      "Number 871 is divisible by [13]\n",
      "Number 884 is divisible by [13, 17]\n",
      "Number 897 is divisible by [13]\n",
      "Number 901 is divisible by [17]\n",
      "Number 910 is divisible by [13]\n",
      "Number 918 is divisible by [17]\n",
      "Number 923 is divisible by [13]\n",
      "Number 935 is divisible by [17]\n",
      "Number 936 is divisible by [13]\n",
      "Number 949 is divisible by [13]\n",
      "Number 952 is divisible by [17]\n",
      "Number 962 is divisible by [13]\n",
      "Number 969 is divisible by [17]\n",
      "Number 975 is divisible by [13]\n",
      "Number 986 is divisible by [17]\n",
      "Number 988 is divisible by [13]\n"
     ]
    }
   ],
   "source": [
    "# Create 2 objects: myNumbers and myDividers\n",
    "myNumbers = range(1,1001)\n",
    "myDividers = [13,17]   # We will loop over these in the loop itself, so it's easy to add new numbers to this\n",
    "\n",
    "# Loop through all numbers and, if dividable, print it and its dividers.\n",
    "for myNumber in myNumbers:\n",
    "    validDividers = []     # In this list we will put all the valid dividers\n",
    "\n",
    "    for myDivider in myDividers:\n",
    "        if (myNumber % myDivider)==0:\n",
    "            validDividers.append(myDivider)\n",
    "\n",
    "    if validDividers:      # This means that the list has to have values in it\n",
    "        print(\"Number %i is divisible by %s\" % (myNumber,validDividers))"
   ]
  },
  {
   "cell_type": "markdown",
   "metadata": {},
   "source": [
    "**4. Write a program where you find, for each positive number up to 50, all numbers that can divide each number in this range.**"
   ]
  },
  {
   "cell_type": "code",
   "execution_count": 8,
   "metadata": {},
   "outputs": [
    {
     "name": "stdout",
     "output_type": "stream",
     "text": [
      "Number 1 can be divided by [1]\n",
      "Number 2 can be divided by [1, 2]\n",
      "Number 3 can be divided by [1, 3]\n",
      "Number 4 can be divided by [1, 2, 4]\n",
      "Number 5 can be divided by [1, 5]\n",
      "Number 6 can be divided by [1, 2, 3, 6]\n",
      "Number 7 can be divided by [1, 7]\n",
      "Number 8 can be divided by [1, 2, 4, 8]\n",
      "Number 9 can be divided by [1, 3, 9]\n",
      "Number 10 can be divided by [1, 2, 5, 10]\n",
      "Number 11 can be divided by [1, 11]\n",
      "Number 12 can be divided by [1, 2, 3, 4, 6, 12]\n",
      "Number 13 can be divided by [1, 13]\n",
      "Number 14 can be divided by [1, 2, 7, 14]\n",
      "Number 15 can be divided by [1, 3, 5, 15]\n",
      "Number 16 can be divided by [1, 2, 4, 8, 16]\n",
      "Number 17 can be divided by [1, 17]\n",
      "Number 18 can be divided by [1, 2, 3, 6, 9, 18]\n",
      "Number 19 can be divided by [1, 19]\n",
      "Number 20 can be divided by [1, 2, 4, 5, 10, 20]\n",
      "Number 21 can be divided by [1, 3, 7, 21]\n",
      "Number 22 can be divided by [1, 2, 11, 22]\n",
      "Number 23 can be divided by [1, 23]\n",
      "Number 24 can be divided by [1, 2, 3, 4, 6, 8, 12, 24]\n",
      "Number 25 can be divided by [1, 5, 25]\n",
      "Number 26 can be divided by [1, 2, 13, 26]\n",
      "Number 27 can be divided by [1, 3, 9, 27]\n",
      "Number 28 can be divided by [1, 2, 4, 7, 14, 28]\n",
      "Number 29 can be divided by [1, 29]\n",
      "Number 30 can be divided by [1, 2, 3, 5, 6, 10, 15, 30]\n",
      "Number 31 can be divided by [1, 31]\n",
      "Number 32 can be divided by [1, 2, 4, 8, 16, 32]\n",
      "Number 33 can be divided by [1, 3, 11, 33]\n",
      "Number 34 can be divided by [1, 2, 17, 34]\n",
      "Number 35 can be divided by [1, 5, 7, 35]\n",
      "Number 36 can be divided by [1, 2, 3, 4, 6, 9, 12, 18, 36]\n",
      "Number 37 can be divided by [1, 37]\n",
      "Number 38 can be divided by [1, 2, 19, 38]\n",
      "Number 39 can be divided by [1, 3, 13, 39]\n",
      "Number 40 can be divided by [1, 2, 4, 5, 8, 10, 20, 40]\n",
      "Number 41 can be divided by [1, 41]\n",
      "Number 42 can be divided by [1, 2, 3, 6, 7, 14, 21, 42]\n",
      "Number 43 can be divided by [1, 43]\n",
      "Number 44 can be divided by [1, 2, 4, 11, 22, 44]\n",
      "Number 45 can be divided by [1, 3, 5, 9, 15, 45]\n",
      "Number 46 can be divided by [1, 2, 23, 46]\n",
      "Number 47 can be divided by [1, 47]\n",
      "Number 48 can be divided by [1, 2, 3, 4, 6, 8, 12, 16, 24, 48]\n",
      "Number 49 can be divided by [1, 7, 49]\n",
      "Number 50 can be divided by [1, 2, 5, 10, 25, 50]\n"
     ]
    }
   ],
   "source": [
    "myNumbers = range(1,51)\n",
    " \n",
    "for x in myNumbers:\n",
    "    dividers = []\n",
    "    for y in range(1,x+1): # remember that the end value is not included in range\n",
    "        if (x % y)==0:\n",
    "            dividers.append(y)\n",
    "    \n",
    "    print (\"Number %i can be divided by %s\" % (x,dividers))"
   ]
  },
  {
   "cell_type": "markdown",
   "metadata": {},
   "source": [
    "**1. Write a program where you start with a list of numbers from 1 to 100, and you then remove every number from this list that can be divided by 3 or by 5. Print the result.**"
   ]
  },
  {
   "cell_type": "code",
   "execution_count": 10,
   "metadata": {},
   "outputs": [
    {
     "name": "stdout",
     "output_type": "stream",
     "text": [
      "[1, 2, 4, 7, 8, 11, 13, 14, 16, 17, 19, 22, 23, 26, 28, 29, 31, 32, 34, 37, 38, 41, 43, 44, 46, 47, 49, 52, 53, 56, 58, 59, 61, 62, 64, 67, 68, 71, 73, 74, 76, 77, 79, 82, 83, 86, 88, 89, 91, 92, 94, 97, 98]\n"
     ]
    }
   ],
   "source": [
    "myNumberList = list(range(1,101))\n",
    " \n",
    "# You have to make a copy of the original list here (using [:]), otherwise Python will get 'confused'\n",
    "# when you remove values from the list while it's looping over it\n",
    "for number in myNumberList[:]:  \n",
    "    if (number % 3)==0 or (number % 5)==0:\n",
    "        myNumberList.remove(number)\n",
    "\n",
    "print(myNumberList)"
   ]
  },
  {
   "cell_type": "markdown",
   "metadata": {},
   "source": [
    "## EXERCISE 3 - While loops"
   ]
  },
  {
   "cell_type": "markdown",
   "metadata": {},
   "source": [
    "**1. Write a program that print all the powers of base 2 for which the result is smaller than 1000.**"
   ]
  },
  {
   "cell_type": "code",
   "execution_count": 16,
   "metadata": {},
   "outputs": [
    {
     "name": "stdout",
     "output_type": "stream",
     "text": [
      "2 to the power 1 is 2\n",
      "2 to the power 2 is 2\n",
      "2 to the power 3 is 4\n",
      "2 to the power 4 is 8\n",
      "2 to the power 5 is 16\n",
      "2 to the power 6 is 32\n",
      "2 to the power 7 is 64\n",
      "2 to the power 8 is 128\n",
      "2 to the power 9 is 256\n",
      "2 to the power 10 is 512\n"
     ]
    }
   ],
   "source": [
    "baseValue = 2\n",
    "powerValue = 1\n",
    "powerResult = baseValue ** powerValue # This is the first power\n",
    "while powerResult < 1000:\n",
    "    print(\"%i to the power %i is %i\" % (baseValue,powerValue,powerResult))\n",
    "    powerResult = baseValue ** powerValue\n",
    "    powerValue += 1 # Add one to itself - this kind of step is crucial in a while loop, or it will be endless!"
   ]
  },
  {
   "cell_type": "markdown",
   "metadata": {},
   "source": [
    "**2. Write a program where you ask the user for an integer using the `input()` function. Keep on asking if they give a wrong input (not integer). Check whether the number can be divided by 7, and print the result.** HINT: `isdigit()` checks whether a string is an integer."
   ]
  },
  {
   "cell_type": "code",
   "execution_count": 17,
   "metadata": {},
   "outputs": [
    {
     "name": "stdout",
     "output_type": "stream",
     "text": [
      "Give a number:2.5\n",
      "Incorrect, not a an integer, try again.\n",
      "Give a number:1.8\n",
      "Incorrect, not a an integer, try again.\n",
      "Give a number:7\n",
      "7 can be divided by 7\n"
     ]
    }
   ],
   "source": [
    "# Keep on checking until you have a number, prime the while loop as well\n",
    "isNumber = False\n",
    "while not (isNumber):\n",
    "    inputString = input(\"Give a number:\")\n",
    "    if inputString.isdigit():\n",
    "        isNumber = True\n",
    "        number = int(inputString)\n",
    "    else:\n",
    "        print(\"Incorrect, not a an integer, try again.\")\n",
    "\n",
    "if (number % 7)==0:\n",
    "    print(\"%i can be divided by 7\" % (number))\n",
    "else:\n",
    "    print(\"%i cannot be divided by 7\" % (number))"
   ]
  },
  {
   "cell_type": "markdown",
   "metadata": {},
   "source": [
    "## EXERCISE 4 - List comprehension\n",
    "Remember that all list comprehensions can be also expressed as a for loop. Please formulate the answers as list comprehensions for practice."
   ]
  },
  {
   "cell_type": "markdown",
   "metadata": {},
   "source": [
    "**1. Create a list of integers which specify the length of each word in `mysentence`, but only if the word is not the word \"the\".**"
   ]
  },
  {
   "cell_type": "code",
   "execution_count": 2,
   "metadata": {},
   "outputs": [
    {
     "name": "stdout",
     "output_type": "stream",
     "text": [
      "['the', 'quick', 'brown', 'fox', 'jumps', 'over', 'the', 'lazy', 'dog']\n",
      "[5, 5, 3, 5, 4, 4, 3]\n"
     ]
    }
   ],
   "source": [
    "mysentence = \"the quick brown fox jumps over the lazy dog\"\n",
    "\n",
    "words = mysentence.split()\n",
    "word_lengths = [len(word) for word in words if word != \"the\"]\n",
    "print(words)\n",
    "print(word_lengths)"
   ]
  },
  {
   "cell_type": "markdown",
   "metadata": {},
   "source": [
    "**2. Create a new list called `newlist` out of the list `numbers`, which contains only the positive numbers from the list, as integers.**"
   ]
  },
  {
   "cell_type": "code",
   "execution_count": 3,
   "metadata": {},
   "outputs": [
    {
     "name": "stdout",
     "output_type": "stream",
     "text": [
      "[34, 44, 68, 44, 12]\n"
     ]
    }
   ],
   "source": [
    "numbers = [34.6, -203.4, 44.9, 68.3, -12.2, 44.6, 12.7]\n",
    "\n",
    "newlist = [int(x) for x in numbers if x > 0]\n",
    "print(newlist)"
   ]
  },
  {
   "cell_type": "markdown",
   "metadata": {},
   "source": [
    "**3. Remove all of the vowels in `mysentence`.**"
   ]
  },
  {
   "cell_type": "code",
   "execution_count": 9,
   "metadata": {},
   "outputs": [
    {
     "name": "stdout",
     "output_type": "stream",
     "text": [
      "th qck brwn fx jmps vr th lzy dg\n"
     ]
    }
   ],
   "source": [
    "mysentence = \"the quick brown fox jumps over the lazy dog\"\n",
    "\n",
    "vowels = ['a','e','i','o','u']\n",
    "novowel_list = [letter for letter in mysentence if letter.lower() not in vowels]\n",
    "novowel_string = \"\".join(results) # Collapse the results in novowel_list into a string again\n",
    "print(novowel_string)"
   ]
  },
  {
   "cell_type": "markdown",
   "metadata": {},
   "source": [
    "**4. Use a nested list comprehension to find all of the numbers from 1-1000 that are divisible by any single digit besides 1 (2-9).**"
   ]
  },
  {
   "cell_type": "code",
   "execution_count": 12,
   "metadata": {},
   "outputs": [
    {
     "name": "stdout",
     "output_type": "stream",
     "text": [
      "[2, 3, 4, 5, 6, 7, 8, 9, 10, 12, 14, 15, 16, 18, 20, 21, 22, 24, 25, 26, 27, 28, 30, 32, 33, 34, 35, 36, 38, 39, 40, 42, 44, 45, 46, 48, 49, 50, 51, 52, 54, 55, 56, 57, 58, 60, 62, 63, 64, 65, 66, 68, 69, 70, 72, 74, 75, 76, 77, 78, 80, 81, 82, 84, 85, 86, 87, 88, 90, 91, 92, 93, 94, 95, 96, 98, 99, 100, 102, 104, 105, 106, 108, 110, 111, 112, 114, 115, 116, 117, 118, 119, 120, 122, 123, 124, 125, 126, 128, 129, 130, 132, 133, 134, 135, 136, 138, 140, 141, 142, 144, 145, 146, 147, 148, 150, 152, 153, 154, 155, 156, 158, 159, 160, 161, 162, 164, 165, 166, 168, 170, 171, 172, 174, 175, 176, 177, 178, 180, 182, 183, 184, 185, 186, 188, 189, 190, 192, 194, 195, 196, 198, 200, 201, 202, 203, 204, 205, 206, 207, 208, 210, 212, 213, 214, 215, 216, 217, 218, 219, 220, 222, 224, 225, 226, 228, 230, 231, 232, 234, 235, 236, 237, 238, 240, 242, 243, 244, 245, 246, 248, 249, 250, 252, 254, 255, 256, 258, 259, 260, 261, 262, 264, 265, 266, 267, 268, 270, 272, 273, 274, 275, 276, 278, 279, 280, 282, 284, 285, 286, 287, 288, 290, 291, 292, 294, 295, 296, 297, 298, 300, 301, 302, 303, 304, 305, 306, 308, 309, 310, 312, 314, 315, 316, 318, 320, 321, 322, 324, 325, 326, 327, 328, 329, 330, 332, 333, 334, 335, 336, 338, 339, 340, 342, 343, 344, 345, 346, 348, 350, 351, 352, 354, 355, 356, 357, 358, 360, 362, 363, 364, 365, 366, 368, 369, 370, 371, 372, 374, 375, 376, 378, 380, 381, 382, 384, 385, 386, 387, 388, 390, 392, 393, 394, 395, 396, 398, 399, 400, 402, 404, 405, 406, 408, 410, 411, 412, 413, 414, 415, 416, 417, 418, 420, 422, 423, 424, 425, 426, 427, 428, 429, 430, 432, 434, 435, 436, 438, 440, 441, 442, 444, 445, 446, 447, 448, 450, 452, 453, 454, 455, 456, 458, 459, 460, 462, 464, 465, 466, 468, 469, 470, 471, 472, 474, 475, 476, 477, 478, 480, 482, 483, 484, 485, 486, 488, 489, 490, 492, 494, 495, 496, 497, 498, 500, 501, 502, 504, 505, 506, 507, 508, 510, 511, 512, 513, 514, 515, 516, 518, 519, 520, 522, 524, 525, 526, 528, 530, 531, 532, 534, 535, 536, 537, 538, 539, 540, 542, 543, 544, 545, 546, 548, 549, 550, 552, 553, 554, 555, 556, 558, 560, 561, 562, 564, 565, 566, 567, 568, 570, 572, 573, 574, 575, 576, 578, 579, 580, 581, 582, 584, 585, 586, 588, 590, 591, 592, 594, 595, 596, 597, 598, 600, 602, 603, 604, 605, 606, 608, 609, 610, 612, 614, 615, 616, 618, 620, 621, 622, 623, 624, 625, 626, 627, 628, 630, 632, 633, 634, 635, 636, 637, 638, 639, 640, 642, 644, 645, 646, 648, 650, 651, 652, 654, 655, 656, 657, 658, 660, 662, 663, 664, 665, 666, 668, 669, 670, 672, 674, 675, 676, 678, 679, 680, 681, 682, 684, 685, 686, 687, 688, 690, 692, 693, 694, 695, 696, 698, 699, 700, 702, 704, 705, 706, 707, 708, 710, 711, 712, 714, 715, 716, 717, 718, 720, 721, 722, 723, 724, 725, 726, 728, 729, 730, 732, 734, 735, 736, 738, 740, 741, 742, 744, 745, 746, 747, 748, 749, 750, 752, 753, 754, 755, 756, 758, 759, 760, 762, 763, 764, 765, 766, 768, 770, 771, 772, 774, 775, 776, 777, 778, 780, 782, 783, 784, 785, 786, 788, 789, 790, 791, 792, 794, 795, 796, 798, 800, 801, 802, 804, 805, 806, 807, 808, 810, 812, 813, 814, 815, 816, 818, 819, 820, 822, 824, 825, 826, 828, 830, 831, 832, 833, 834, 835, 836, 837, 838, 840, 842, 843, 844, 845, 846, 847, 848, 849, 850, 852, 854, 855, 856, 858, 860, 861, 862, 864, 865, 866, 867, 868, 870, 872, 873, 874, 875, 876, 878, 879, 880, 882, 884, 885, 886, 888, 889, 890, 891, 892, 894, 895, 896, 897, 898, 900, 902, 903, 904, 905, 906, 908, 909, 910, 912, 914, 915, 916, 917, 918, 920, 921, 922, 924, 925, 926, 927, 928, 930, 931, 932, 933, 934, 935, 936, 938, 939, 940, 942, 944, 945, 946, 948, 950, 951, 952, 954, 955, 956, 957, 958, 959, 960, 962, 963, 964, 965, 966, 968, 969, 970, 972, 973, 974, 975, 976, 978, 980, 981, 982, 984, 985, 986, 987, 988, 990, 992, 993, 994, 995, 996, 998, 999, 1000]\n"
     ]
    }
   ],
   "source": [
    "results = [number for number in range(1,1001) if [divisor for divisor in range(2,10) if number % divisor == 0]]\n",
    "print(results)"
   ]
  },
  {
   "cell_type": "markdown",
   "metadata": {},
   "source": [
    "**5. Print out the amino acid sequence that would be produced by the DNA sequence \"GTTGCACCACAACCG\". Use genetic code below.**"
   ]
  },
  {
   "cell_type": "code",
   "execution_count": 1,
   "metadata": {},
   "outputs": [],
   "source": [
    "GENETIC_CODE = {\n",
    "    'ATA':'I', 'ATC':'I', 'ATT':'I', 'ATG':'M',\n",
    "    'ACA':'T', 'ACC':'T', 'ACG':'T', 'ACT':'T',\n",
    "    'AAC':'N', 'AAT':'N', 'AAA':'K', 'AAG':'K',\n",
    "    'AGC':'S', 'AGT':'S', 'AGA':'R', 'AGG':'R',\n",
    "    'CTA':'L', 'CTC':'L', 'CTG':'L', 'CTT':'L',\n",
    "    'CCA':'P', 'CCC':'P', 'CCG':'P', 'CCT':'P',\n",
    "    'CAC':'H', 'CAT':'H', 'CAA':'Q', 'CAG':'Q',\n",
    "    'CGA':'R', 'CGC':'R', 'CGG':'R', 'CGT':'R',\n",
    "    'GTA':'V', 'GTC':'V', 'GTG':'V', 'GTT':'V',\n",
    "    'GCA':'A', 'GCC':'A', 'GCG':'A', 'GCT':'A',\n",
    "    'GAC':'D', 'GAT':'D', 'GAA':'E', 'GAG':'E',\n",
    "    'GGA':'G', 'GGC':'G', 'GGG':'G', 'GGT':'G',\n",
    "    'TCA':'S', 'TCC':'S', 'TCG':'S', 'TCT':'S',\n",
    "    'TTC':'F', 'TTT':'F', 'TTA':'L', 'TTG':'L',\n",
    "    'TAC':'Y', 'TAT':'Y', 'TAA':'_', 'TAG':'_',\n",
    "    'TGC':'C', 'TGT':'C', 'TGA':'_', 'TGG':'W'}"
   ]
  },
  {
   "cell_type": "code",
   "execution_count": 2,
   "metadata": {},
   "outputs": [
    {
     "name": "stdout",
     "output_type": "stream",
     "text": [
      "VAPQP\n"
     ]
    }
   ],
   "source": [
    "sequence = \"GTTGCACCACAACCG\"\n",
    "seq_codons = [sequence[n:n+3] for n in range(0,len(sequence),3)] # Separate sequence into codons\n",
    "seq_aa = [GENETIC_CODE[c] for c in seq_codons]\n",
    "translated_seq = \"\".join(seq_aa)\n",
    "print(translated_seq)"
   ]
  },
  {
   "cell_type": "markdown",
   "metadata": {},
   "source": [
    "## EXERCISE 5 - Reading and writing files"
   ]
  },
  {
   "cell_type": "markdown",
   "metadata": {},
   "source": [
    "**1. Read the \"TestFile.pdb\" file within the directory \"data\" (PDB coordinate file for a 5 residue peptide). Print the number of lines of the file (length).**"
   ]
  },
  {
   "cell_type": "code",
   "execution_count": 13,
   "metadata": {},
   "outputs": [
    {
     "name": "stdout",
     "output_type": "stream",
     "text": [
      "263\n"
     ]
    }
   ],
   "source": [
    "# Open the file\n",
    "fileHandle = open(\"data/TestFile.pdb\")\n",
    " \n",
    "# Read all the lines in the file (as separated by a newline character), and store them in the lines list\n",
    "# Each element in this list corresponds to one line of the file!\n",
    "lines = fileHandle.readlines()\n",
    " \n",
    "# Close the file\n",
    "fileHandle.close()\n",
    " \n",
    "# Print number of lines in the file\n",
    "print(len(lines))"
   ]
  },
  {
   "cell_type": "markdown",
   "metadata": {},
   "source": [
    "**2. Loop over the lines, and use the method `strip` to remove starting and trailing spaces/tabs/newlines. As PDB files  are delimited by spaces, use the method `split` to separate the elements in each line. Print.**"
   ]
  },
  {
   "cell_type": "code",
   "execution_count": 17,
   "metadata": {},
   "outputs": [
    {
     "name": "stdout",
     "output_type": "stream",
     "text": [
      "['HEADER', 'IMMUNE', 'SYSTEM', '09-APR-01', '1ABC']\n",
      "['TITLE', 'SOLUTION', 'STRUCTURE', 'OF', 'A', 'NON-EXISTENT', 'PEPTIDE']\n",
      "['REMARK', '1', 'THIS', 'IS', 'A', 'FAKE', 'PDB', 'FILE']\n",
      "['SEQRES', '1', 'A', '5', 'ASP', 'VAL', 'GLN', 'LEU', 'GLN']\n",
      "['MODEL', '1']\n",
      "['ATOM', '1', 'N', 'ASP', 'A', '1', '-10.341', '-9.922', '9.398', '1.00', '0.00', 'N']\n",
      "['ATOM', '2', 'CA', 'ASP', 'A', '1', '-11.156', '-9.786', '8.164', '1.00', '0.00', 'C']\n",
      "['ATOM', '3', 'C', 'ASP', 'A', '1', '-10.288', '-9.894', '6.915', '1.00', '0.00', 'C']\n",
      "['ATOM', '4', 'O', 'ASP', 'A', '1', '-10.429', '-10.831', '6.127', '1.00', '0.00', 'O']\n",
      "['ATOM', '5', 'CB', 'ASP', 'A', '1', '-11.868', '-8.431', '8.188', '1.00', '0.00', 'C']\n",
      "['ATOM', '6', 'CG', 'ASP', 'A', '1', '-11.756', '-7.739', '9.533', '1.00', '0.00', 'C']\n",
      "['ATOM', '7', 'OD1', 'ASP', 'A', '1', '-10.726', '-7.077', '9.778', '1.00', '0.00', 'O']\n",
      "['ATOM', '8', 'OD2', 'ASP', 'A', '1', '-12.701', '-7.858', '10.342', '1.00', '0.00', 'O']\n",
      "['ATOM', '9', 'HA', 'ASP', 'A', '1', '-11.893', '-10.575', '8.149', '1.00', '0.00', 'H']\n",
      "['ATOM', '10', 'HB2', 'ASP', 'A', '1', '-11.430', '-7.790', '7.437', '1.00', '0.00', 'H']\n",
      "['ATOM', '11', 'HB3', 'ASP', 'A', '1', '-12.914', '-8.578', '7.965', '1.00', '0.00', 'H']\n",
      "['ATOM', '12', 'H1', 'ASP', 'A', '1', '-9.660', '-10.701', '9.293', '1.00', '0.00', 'H']\n",
      "['ATOM', '13', 'H2', 'ASP', 'A', '1', '-10.955', '-10.120', '10.213', '1.00', '0.00', 'H']\n",
      "['ATOM', '14', 'H3', 'ASP', 'A', '1', '-9.817', '-9.042', '9.579', '1.00', '0.00', 'H']\n",
      "['ATOM', '15', 'N', 'VAL', 'A', '2', '-9.394', '-8.927', '6.739', '1.00', '0.00', 'N']\n",
      "['ATOM', '16', 'CA', 'VAL', 'A', '2', '-8.505', '-8.908', '5.584', '1.00', '0.00', 'C']\n",
      "['ATOM', '17', 'C', 'VAL', 'A', '2', '-7.043', '-8.954', '6.011', '1.00', '0.00', 'C']\n",
      "['ATOM', '18', 'O', 'VAL', 'A', '2', '-6.550', '-8.040', '6.670', '1.00', '0.00', 'O']\n",
      "['ATOM', '19', 'CB', 'VAL', 'A', '2', '-8.732', '-7.652', '4.719', '1.00', '0.00', 'C']\n",
      "['ATOM', '20', 'CG1', 'VAL', 'A', '2', '-8.420', '-7.943', '3.260', '1.00', '0.00', 'C']\n",
      "['ATOM', '21', 'CG2', 'VAL', 'A', '2', '-10.157', '-7.142', '4.872', '1.00', '0.00', 'C']\n",
      "['ATOM', '22', 'H', 'VAL', 'A', '2', '-9.331', '-8.207', '7.401', '1.00', '0.00', 'H']\n",
      "['ATOM', '23', 'HA', 'VAL', 'A', '2', '-8.721', '-9.778', '4.981', '1.00', '0.00', 'H']\n",
      "['ATOM', '24', 'HB', 'VAL', 'A', '2', '-8.057', '-6.879', '5.058', '1.00', '0.00', 'H']\n",
      "['ATOM', '25', 'HG11', 'VAL', 'A', '2', '-7.777', '-7.169', '2.868', '1.00', '0.00', 'H']\n",
      "['ATOM', '26', 'HG12', 'VAL', 'A', '2', '-9.340', '-7.967', '2.695', '1.00', '0.00', 'H']\n",
      "['ATOM', '27', 'HG13', 'VAL', 'A', '2', '-7.924', '-8.899', '3.182', '1.00', '0.00', 'H']\n",
      "['ATOM', '28', 'HG21', 'VAL', 'A', '2', '-10.196', '-6.097', '4.604', '1.00', '0.00', 'H']\n",
      "['ATOM', '29', 'HG22', 'VAL', 'A', '2', '-10.474', '-7.263', '5.896', '1.00', '0.00', 'H']\n",
      "['ATOM', '30', 'HG23', 'VAL', 'A', '2', '-10.812', '-7.705', '4.224', '1.00', '0.00', 'H']\n",
      "['ATOM', '31', 'N', 'GLN', 'A', '3', '-6.353', '-10.022', '5.624', '1.00', '0.00', 'N']\n",
      "['ATOM', '32', 'CA', 'GLN', 'A', '3', '-4.943', '-10.183', '5.959', '1.00', '0.00', 'C']\n",
      "['ATOM', '33', 'C', 'GLN', 'A', '3', '-4.103', '-10.294', '4.693', '1.00', '0.00', 'C']\n",
      "['ATOM', '34', 'O', 'GLN', 'A', '3', '-4.496', '-10.955', '3.733', '1.00', '0.00', 'O']\n",
      "['ATOM', '35', 'CB', 'GLN', 'A', '3', '-4.735', '-11.419', '6.834', '1.00', '0.00', 'C']\n",
      "['ATOM', '36', 'CG', 'GLN', 'A', '3', '-3.385', '-11.442', '7.528', '1.00', '0.00', 'C']\n",
      "['ATOM', '37', 'CD', 'GLN', 'A', '3', '-2.543', '-12.638', '7.129', '1.00', '0.00', 'C']\n",
      "['ATOM', '38', 'OE1', 'GLN', 'A', '3', '-3.043', '-13.759', '7.031', '1.00', '0.00', 'O']\n",
      "['ATOM', '39', 'NE2', 'GLN', 'A', '3', '-1.256', '-12.406', '6.896', '1.00', '0.00', 'N']\n",
      "['ATOM', '40', 'H', 'GLN', 'A', '3', '-6.801', '-10.714', '5.096', '1.00', '0.00', 'H']\n",
      "['ATOM', '41', 'HA', 'GLN', 'A', '3', '-4.632', '-9.307', '6.508', '1.00', '0.00', 'H']\n",
      "['ATOM', '42', 'HB2', 'GLN', 'A', '3', '-5.507', '-11.446', '7.590', '1.00', '0.00', 'H']\n",
      "['ATOM', '43', 'HB3', 'GLN', 'A', '3', '-4.815', '-12.302', '6.217', '1.00', '0.00', 'H']\n",
      "['ATOM', '44', 'HG2', 'GLN', 'A', '3', '-2.847', '-10.540', '7.268', '1.00', '0.00', 'H']\n",
      "['ATOM', '45', 'HG3', 'GLN', 'A', '3', '-3.543', '-11.470', '8.596', '1.00', '0.00', 'H']\n",
      "['ATOM', '46', 'HE21', 'GLN', 'A', '3', '-0.927', '-11.489', '6.993', '1.00', '0.00', 'H']\n",
      "['ATOM', '47', 'HE22', 'GLN', 'A', '3', '-0.689', '-13.163', '6.638', '1.00', '0.00', 'H']\n",
      "['ATOM', '48', 'N', 'LEU', 'A', '4', '-2.948', '-9.635', '4.694', '1.00', '0.00', 'N']\n",
      "['ATOM', '49', 'CA', 'LEU', 'A', '4', '-2.061', '-9.657', '3.537', '1.00', '0.00', 'C']\n",
      "['ATOM', '50', 'C', 'LEU', 'A', '4', '-0.648', '-10.074', '3.943', '1.00', '0.00', 'C']\n",
      "['ATOM', '51', 'O', 'LEU', 'A', '4', '-0.317', '-10.101', '5.127', '1.00', '0.00', 'O']\n",
      "['ATOM', '52', 'CB', 'LEU', 'A', '4', '-2.044', '-8.279', '2.860', '1.00', '0.00', 'C']\n",
      "['ATOM', '53', 'CG', 'LEU', 'A', '4', '-3.143', '-7.312', '3.321', '1.00', '0.00', 'C']\n",
      "['ATOM', '54', 'CD1', 'LEU', 'A', '4', '-2.833', '-5.894', '2.876', '1.00', '0.00', 'C']\n",
      "['ATOM', '55', 'CD2', 'LEU', 'A', '4', '-4.502', '-7.739', '2.792', '1.00', '0.00', 'C']\n",
      "['ATOM', '56', 'H', 'LEU', 'A', '4', '-2.688', '-9.119', '5.487', '1.00', '0.00', 'H']\n",
      "['ATOM', '57', 'HA', 'LEU', 'A', '4', '-2.448', '-10.384', '2.839', '1.00', '0.00', 'H']\n",
      "['ATOM', '58', 'HB2', 'LEU', 'A', '4', '-1.084', '-7.821', '3.051', '1.00', '0.00', 'H']\n",
      "['ATOM', '59', 'HB3', 'LEU', 'A', '4', '-2.148', '-8.425', '1.796', '1.00', '0.00', 'H']\n",
      "['ATOM', '60', 'HG', 'LEU', 'A', '4', '-3.187', '-7.318', '4.401', '1.00', '0.00', 'H']\n",
      "['ATOM', '61', 'HD11', 'LEU', 'A', '4', '-2.151', '-5.920', '2.040', '1.00', '0.00', 'H']\n",
      "['ATOM', '62', 'HD12', 'LEU', 'A', '4', '-2.381', '-5.350', '3.693', '1.00', '0.00', 'H']\n",
      "['ATOM', '63', 'HD13', 'LEU', 'A', '4', '-3.749', '-5.403', '2.578', '1.00', '0.00', 'H']\n",
      "['ATOM', '64', 'HD21', 'LEU', 'A', '4', '-5.276', '-7.170', '3.290', '1.00', '0.00', 'H']\n",
      "['ATOM', '65', 'HD22', 'LEU', 'A', '4', '-4.649', '-8.791', '2.981', '1.00', '0.00', 'H']\n",
      "['ATOM', '66', 'HD23', 'LEU', 'A', '4', '-4.547', '-7.553', '1.729', '1.00', '0.00', 'H']\n",
      "['ATOM', '67', 'N', 'GLN', 'A', '5', '0.177', '-10.408', '2.954', '1.00', '0.00', 'N']\n",
      "['ATOM', '68', 'CA', 'GLN', 'A', '5', '1.551', '-10.831', '3.212', '1.00', '0.00', 'C']\n",
      "['ATOM', '69', 'C', 'GLN', 'A', '5', '2.519', '-10.133', '2.262', '1.00', '0.00', 'C']\n",
      "['ATOM', '70', 'O', 'GLN', 'A', '5', '2.272', '-10.057', '1.059', '1.00', '0.00', 'O']\n",
      "['ATOM', '71', 'CB', 'GLN', 'A', '5', '1.671', '-12.351', '3.066', '1.00', '0.00', 'C']\n",
      "['ATOM', '72', 'CG', 'GLN', 'A', '5', '3.104', '-12.846', '2.943', '1.00', '0.00', 'C']\n",
      "['ATOM', '73', 'CD', 'GLN', 'A', '5', '3.372', '-13.531', '1.617', '1.00', '0.00', 'C']\n",
      "['ATOM', '74', 'OE1', 'GLN', 'A', '5', '2.852', '-13.123', '0.579', '1.00', '0.00', 'O']\n",
      "['ATOM', '75', 'NE2', 'GLN', 'A', '5', '4.187', '-14.579', '1.647', '1.00', '0.00', 'N']\n",
      "['ATOM', '76', 'H', 'GLN', 'A', '5', '-0.147', '-10.373', '2.029', '1.00', '0.00', 'H']\n",
      "['ATOM', '77', 'HA', 'GLN', 'A', '5', '1.798', '-10.554', '4.225', '1.00', '0.00', 'H']\n",
      "['ATOM', '78', 'HB2', 'GLN', 'A', '5', '1.225', '-12.820', '3.930', '1.00', '0.00', 'H']\n",
      "['ATOM', '79', 'HB3', 'GLN', 'A', '5', '1.131', '-12.659', '2.182', '1.00', '0.00', 'H']\n",
      "['ATOM', '80', 'HG2', 'GLN', 'A', '5', '3.773', '-12.004', '3.037', '1.00', '0.00', 'H']\n",
      "['ATOM', '81', 'HG3', 'GLN', 'A', '5', '3.298', '-13.549', '3.741', '1.00', '0.00', 'H']\n",
      "['ATOM', '82', 'HE21', 'GLN', 'A', '5', '4.565', '-14.848', '2.511', '1.00', '0.00', 'H']\n",
      "['ATOM', '83', 'HE22', 'GLN', 'A', '5', '4.378', '-15.041', '0.804', '1.00', '0.00', 'H']\n",
      "['TER', '84', 'GLN', 'A', '5']\n",
      "['ENDMDL']\n",
      "['MODEL', '2']\n",
      "['ATOM', '1', 'N', 'ASP', 'A', '1', '-9.717', '-9.466', '9.564', '1.00', '0.00', 'N']\n",
      "['ATOM', '2', 'CA', 'ASP', 'A', '1', '-10.254', '-9.502', '8.178', '1.00', '0.00', 'C']\n",
      "['ATOM', '3', 'C', 'ASP', 'A', '1', '-9.163', '-9.852', '7.171', '1.00', '0.00', 'C']\n",
      "['ATOM', '4', 'O', 'ASP', 'A', '1', '-8.224', '-10.584', '7.489', '1.00', '0.00', 'O']\n",
      "['ATOM', '5', 'CB', 'ASP', 'A', '1', '-10.850', '-8.131', '7.853', '1.00', '0.00', 'C']\n",
      "['ATOM', '6', 'CG', 'ASP', 'A', '1', '-12.365', '-8.159', '7.791', '1.00', '0.00', 'C']\n",
      "['ATOM', '7', 'OD1', 'ASP', 'A', '1', '-12.984', '-8.811', '8.659', '1.00', '0.00', 'O']\n",
      "['ATOM', '8', 'OD2', 'ASP', 'A', '1', '-12.933', '-7.528', '6.875', '1.00', '0.00', 'O']\n",
      "['ATOM', '9', 'HA', 'ASP', 'A', '1', '-11.032', '-10.249', '8.130', '1.00', '0.00', 'H']\n",
      "['ATOM', '10', 'HB2', 'ASP', 'A', '1', '-10.552', '-7.426', '8.615', '1.00', '0.00', 'H']\n",
      "['ATOM', '11', 'HB3', 'ASP', 'A', '1', '-10.473', '-7.802', '6.893', '1.00', '0.00', 'H']\n",
      "['ATOM', '12', 'H1', 'ASP', 'A', '1', '-9.544', '-10.433', '9.905', '1.00', '0.00', 'H']\n",
      "['ATOM', '13', 'H2', 'ASP', 'A', '1', '-10.397', '-9.002', '10.198', '1.00', '0.00', 'H']\n",
      "['ATOM', '14', 'H3', 'ASP', 'A', '1', '-8.821', '-8.937', '9.586', '1.00', '0.00', 'H']\n",
      "['ATOM', '15', 'N', 'VAL', 'A', '2', '-9.295', '-9.324', '5.956', '1.00', '0.00', 'N']\n",
      "['ATOM', '16', 'CA', 'VAL', 'A', '2', '-8.326', '-9.573', '4.894', '1.00', '0.00', 'C']\n",
      "['ATOM', '17', 'C', 'VAL', 'A', '2', '-6.901', '-9.301', '5.372', '1.00', '0.00', 'C']\n",
      "['ATOM', '18', 'O', 'VAL', 'A', '2', '-6.588', '-8.205', '5.838', '1.00', '0.00', 'O']\n",
      "['ATOM', '19', 'CB', 'VAL', 'A', '2', '-8.625', '-8.709', '3.647', '1.00', '0.00', 'C']\n",
      "['ATOM', '20', 'CG1', 'VAL', 'A', '2', '-9.213', '-7.366', '4.049', '1.00', '0.00', 'C']\n",
      "['ATOM', '21', 'CG2', 'VAL', 'A', '2', '-7.374', '-8.512', '2.806', '1.00', '0.00', 'C']\n",
      "['ATOM', '22', 'H', 'VAL', 'A', '2', '-10.068', '-8.751', '5.768', '1.00', '0.00', 'H']\n",
      "['ATOM', '23', 'HA', 'VAL', 'A', '2', '-8.405', '-10.613', '4.612', '1.00', '0.00', 'H']\n",
      "['ATOM', '24', 'HB', 'VAL', 'A', '2', '-9.354', '-9.228', '3.043', '1.00', '0.00', 'H']\n",
      "['ATOM', '25', 'HG11', 'VAL', 'A', '2', '-8.620', '-6.936', '4.843', '1.00', '0.00', 'H']\n",
      "['ATOM', '26', 'HG12', 'VAL', 'A', '2', '-10.228', '-7.505', '4.393', '1.00', '0.00', 'H']\n",
      "['ATOM', '27', 'HG13', 'VAL', 'A', '2', '-9.209', '-6.701', '3.198', '1.00', '0.00', 'H']\n",
      "['ATOM', '28', 'HG21', 'VAL', 'A', '2', '-6.816', '-7.669', '3.188', '1.00', '0.00', 'H']\n",
      "['ATOM', '29', 'HG22', 'VAL', 'A', '2', '-7.655', '-8.322', '1.781', '1.00', '0.00', 'H']\n",
      "['ATOM', '30', 'HG23', 'VAL', 'A', '2', '-6.763', '-9.400', '2.854', '1.00', '0.00', 'H']\n",
      "['ATOM', '31', 'N', 'GLN', 'A', '3', '-6.045', '-10.308', '5.242', '1.00', '0.00', 'N']\n",
      "['ATOM', '32', 'CA', 'GLN', 'A', '3', '-4.649', '-10.193', '5.646', '1.00', '0.00', 'C']\n",
      "['ATOM', '33', 'C', 'GLN', 'A', '3', '-3.737', '-10.324', '4.433', '1.00', '0.00', 'C']\n",
      "['ATOM', '34', 'O', 'GLN', 'A', '3', '-3.986', '-11.144', '3.551', '1.00', '0.00', 'O']\n",
      "['ATOM', '35', 'CB', 'GLN', 'A', '3', '-4.304', '-11.272', '6.674', '1.00', '0.00', 'C']\n",
      "['ATOM', '36', 'CG', 'GLN', 'A', '3', '-3.671', '-10.726', '7.944', '1.00', '0.00', 'C']\n",
      "['ATOM', '37', 'CD', 'GLN', 'A', '3', '-2.254', '-11.224', '8.150', '1.00', '0.00', 'C']\n",
      "['ATOM', '38', 'OE1', 'GLN', 'A', '3', '-1.914', '-11.744', '9.212', '1.00', '0.00', 'O']\n",
      "['ATOM', '39', 'NE2', 'GLN', 'A', '3', '-1.418', '-11.066', '7.130', '1.00', '0.00', 'N']\n",
      "['ATOM', '40', 'H', 'GLN', 'A', '3', '-6.360', '-11.152', '4.858', '1.00', '0.00', 'H']\n",
      "['ATOM', '41', 'HA', 'GLN', 'A', '3', '-4.508', '-9.219', '6.092', '1.00', '0.00', 'H']\n",
      "['ATOM', '42', 'HB2', 'GLN', 'A', '3', '-5.209', '-11.795', '6.945', '1.00', '0.00', 'H']\n",
      "['ATOM', '43', 'HB3', 'GLN', 'A', '3', '-3.615', '-11.971', '6.226', '1.00', '0.00', 'H']\n",
      "['ATOM', '44', 'HG2', 'GLN', 'A', '3', '-3.652', '-9.648', '7.887', '1.00', '0.00', 'H']\n",
      "['ATOM', '45', 'HG3', 'GLN', 'A', '3', '-4.271', '-11.031', '8.790', '1.00', '0.00', 'H']\n",
      "['ATOM', '46', 'HE21', 'GLN', 'A', '3', '-1.758', '-10.642', '6.315', '1.00', '0.00', 'H']\n",
      "['ATOM', '47', 'HE22', 'GLN', 'A', '3', '-0.495', '-11.379', '7.235', '1.00', '0.00', 'H']\n",
      "['ATOM', '48', 'N', 'LEU', 'A', '4', '-2.684', '-9.512', '4.386', '1.00', '0.00', 'N']\n",
      "['ATOM', '49', 'CA', 'LEU', 'A', '4', '-1.751', '-9.554', '3.265', '1.00', '0.00', 'C']\n",
      "['ATOM', '50', 'C', 'LEU', 'A', '4', '-0.355', '-9.953', '3.728', '1.00', '0.00', 'C']\n",
      "['ATOM', '51', 'O', 'LEU', 'A', '4', '-0.015', '-9.815', '4.903', '1.00', '0.00', 'O']\n",
      "['ATOM', '52', 'CB', 'LEU', 'A', '4', '-1.697', '-8.198', '2.554', '1.00', '0.00', 'C']\n",
      "['ATOM', '53', 'CG', 'LEU', 'A', '4', '-2.726', '-7.164', '3.021', '1.00', '0.00', 'C']\n",
      "['ATOM', '54', 'CD1', 'LEU', 'A', '4', '-2.358', '-5.787', '2.502', '1.00', '0.00', 'C']\n",
      "['ATOM', '55', 'CD2', 'LEU', 'A', '4', '-4.123', '-7.544', '2.554', '1.00', '0.00', 'C']\n",
      "['ATOM', '56', 'H', 'LEU', 'A', '4', '-2.532', '-8.872', '5.115', '1.00', '0.00', 'H']\n",
      "['ATOM', '57', 'HA', 'LEU', 'A', '4', '-2.109', '-10.297', '2.568', '1.00', '0.00', 'H']\n",
      "['ATOM', '58', 'HB2', 'LEU', 'A', '4', '-0.711', '-7.780', '2.700', '1.00', '0.00', 'H']\n",
      "['ATOM', '59', 'HB3', 'LEU', 'A', '4', '-1.843', '-8.365', '1.497', '1.00', '0.00', 'H']\n",
      "['ATOM', '60', 'HG', 'LEU', 'A', '4', '-2.728', '-7.127', '4.100', '1.00', '0.00', 'H']\n",
      "['ATOM', '61', 'HD11', 'LEU', 'A', '4', '-3.164', '-5.098', '2.706', '1.00', '0.00', 'H']\n",
      "['ATOM', '62', 'HD12', 'LEU', 'A', '4', '-2.187', '-5.839', '1.438', '1.00', '0.00', 'H']\n",
      "['ATOM', '63', 'HD13', 'LEU', 'A', '4', '-1.460', '-5.447', '2.994', '1.00', '0.00', 'H']\n",
      "['ATOM', '64', 'HD21', 'LEU', 'A', '4', '-4.855', '-7.025', '3.155', '1.00', '0.00', 'H']\n",
      "['ATOM', '65', 'HD22', 'LEU', 'A', '4', '-4.260', '-8.609', '2.660', '1.00', '0.00', 'H']\n",
      "['ATOM', '66', 'HD23', 'LEU', 'A', '4', '-4.244', '-7.266', '1.518', '1.00', '0.00', 'H']\n",
      "['ATOM', '67', 'N', 'GLN', 'A', '5', '0.449', '-10.447', '2.792', '1.00', '0.00', 'N']\n",
      "['ATOM', '68', 'CA', 'GLN', 'A', '5', '1.811', '-10.869', '3.095', '1.00', '0.00', 'C']\n",
      "['ATOM', '69', 'C', 'GLN', 'A', '5', '2.804', '-10.189', '2.159', '1.00', '0.00', 'C']\n",
      "['ATOM', '70', 'O', 'GLN', 'A', '5', '2.816', '-10.449', '0.956', '1.00', '0.00', 'O']\n",
      "['ATOM', '71', 'CB', 'GLN', 'A', '5', '1.934', '-12.390', '2.977', '1.00', '0.00', 'C']\n",
      "['ATOM', '72', 'CG', 'GLN', 'A', '5', '0.704', '-13.138', '3.464', '1.00', '0.00', 'C']\n",
      "['ATOM', '73', 'CD', 'GLN', 'A', '5', '0.987', '-14.597', '3.767', '1.00', '0.00', 'C']\n",
      "['ATOM', '74', 'OE1', 'GLN', 'A', '5', '0.694', '-15.085', '4.859', '1.00', '0.00', 'O']\n",
      "['ATOM', '75', 'NE2', 'GLN', 'A', '5', '1.559', '-15.303', '2.798', '1.00', '0.00', 'N']\n",
      "['ATOM', '76', 'H', 'GLN', 'A', '5', '0.117', '-10.530', '1.874', '1.00', '0.00', 'H']\n",
      "['ATOM', '77', 'HA', 'GLN', 'A', '5', '2.032', '-10.576', '4.109', '1.00', '0.00', 'H']\n",
      "['ATOM', '78', 'HB2', 'GLN', 'A', '5', '2.098', '-12.646', '1.941', '1.00', '0.00', 'H']\n",
      "['ATOM', '79', 'HB3', 'GLN', 'A', '5', '2.783', '-12.717', '3.558', '1.00', '0.00', 'H']\n",
      "['ATOM', '80', 'HG2', 'GLN', 'A', '5', '0.343', '-12.664', '4.365', '1.00', '0.00', 'H']\n",
      "['ATOM', '81', 'HG3', 'GLN', 'A', '5', '-0.058', '-13.085', '2.700', '1.00', '0.00', 'H']\n",
      "['ATOM', '82', 'HE21', 'GLN', 'A', '5', '1.763', '-14.850', '1.954', '1.00', '0.00', 'H']\n",
      "['ATOM', '83', 'HE22', 'GLN', 'A', '5', '1.753', '-16.248', '2.968', '1.00', '0.00', 'H']\n",
      "['TER', '84', 'GLN', 'A', '5']\n",
      "['ENDMDL']\n",
      "['MODEL', '3']\n",
      "['ATOM', '1', 'N', 'ASP', 'A', '1', '-10.188', '-8.864', '10.439', '1.00', '0.00', 'N']\n",
      "['ATOM', '2', 'CA', 'ASP', 'A', '1', '-10.350', '-8.495', '9.009', '1.00', '0.00', 'C']\n",
      "['ATOM', '3', 'C', 'ASP', 'A', '1', '-9.478', '-9.371', '8.115', '1.00', '0.00', 'C']\n",
      "['ATOM', '4', 'O', 'ASP', 'A', '1', '-9.035', '-10.445', '8.524', '1.00', '0.00', 'O']\n",
      "['ATOM', '5', 'CB', 'ASP', 'A', '1', '-9.970', '-7.023', '8.840', '1.00', '0.00', 'C']\n",
      "['ATOM', '6', 'CG', 'ASP', 'A', '1', '-11.185', '-6.118', '8.763', '1.00', '0.00', 'C']\n",
      "['ATOM', '7', 'OD1', 'ASP', 'A', '1', '-12.111', '-6.299', '9.580', '1.00', '0.00', 'O']\n",
      "['ATOM', '8', 'OD2', 'ASP', 'A', '1', '-11.207', '-5.229', '7.886', '1.00', '0.00', 'O']\n",
      "['ATOM', '9', 'HA', 'ASP', 'A', '1', '-11.384', '-8.630', '8.733', '1.00', '0.00', 'H']\n",
      "['ATOM', '10', 'HB2', 'ASP', 'A', '1', '-9.368', '-6.714', '9.682', '1.00', '0.00', 'H']\n",
      "['ATOM', '11', 'HB3', 'ASP', 'A', '1', '-9.397', '-6.907', '7.931', '1.00', '0.00', 'H']\n",
      "['ATOM', '12', 'H1', 'ASP', 'A', '1', '-10.079', '-8.007', '11.019', '1.00', '0.00', 'H']\n",
      "['ATOM', '13', 'H2', 'ASP', 'A', '1', '-9.346', '-9.461', '10.562', '1.00', '0.00', 'H']\n",
      "['ATOM', '14', 'H3', 'ASP', 'A', '1', '-11.024', '-9.389', '10.769', '1.00', '0.00', 'H']\n",
      "['ATOM', '15', 'N', 'VAL', 'A', '2', '-9.234', '-8.905', '6.893', '1.00', '0.00', 'N']\n",
      "['ATOM', '16', 'CA', 'VAL', 'A', '2', '-8.413', '-9.647', '5.942', '1.00', '0.00', 'C']\n",
      "['ATOM', '17', 'C', 'VAL', 'A', '2', '-6.929', '-9.430', '6.222', '1.00', '0.00', 'C']\n",
      "['ATOM', '18', 'O', 'VAL', 'A', '2', '-6.535', '-8.405', '6.780', '1.00', '0.00', 'O']\n",
      "['ATOM', '19', 'CB', 'VAL', 'A', '2', '-8.726', '-9.242', '4.477', '1.00', '0.00', 'C']\n",
      "['ATOM', '20', 'CG1', 'VAL', 'A', '2', '-10.113', '-8.629', '4.369', '1.00', '0.00', 'C']\n",
      "['ATOM', '21', 'CG2', 'VAL', 'A', '2', '-7.680', '-8.278', '3.930', '1.00', '0.00', 'C']\n",
      "['ATOM', '22', 'H', 'VAL', 'A', '2', '-9.615', '-8.042', '6.625', '1.00', '0.00', 'H']\n",
      "['ATOM', '23', 'HA', 'VAL', 'A', '2', '-8.639', '-10.697', '6.058', '1.00', '0.00', 'H']\n",
      "['ATOM', '24', 'HB', 'VAL', 'A', '2', '-8.707', '-10.136', '3.868', '1.00', '0.00', 'H']\n",
      "['ATOM', '25', 'HG11', 'VAL', 'A', '2', '-10.023', '-7.575', '4.144', '1.00', '0.00', 'H']\n",
      "['ATOM', '26', 'HG12', 'VAL', 'A', '2', '-10.637', '-8.755', '5.305', '1.00', '0.00', 'H']\n",
      "['ATOM', '27', 'HG13', 'VAL', 'A', '2', '-10.663', '-9.120', '3.579', '1.00', '0.00', 'H']\n",
      "['ATOM', '28', 'HG21', 'VAL', 'A', '2', '-8.153', '-7.578', '3.258', '1.00', '0.00', 'H']\n",
      "['ATOM', '29', 'HG22', 'VAL', 'A', '2', '-6.923', '-8.833', '3.397', '1.00', '0.00', 'H']\n",
      "['ATOM', '30', 'HG23', 'VAL', 'A', '2', '-7.224', '-7.741', '4.748', '1.00', '0.00', 'H']\n",
      "['ATOM', '31', 'N', 'GLN', 'A', '3', '-6.111', '-10.394', '5.816', '1.00', '0.00', 'N']\n",
      "['ATOM', '32', 'CA', 'GLN', 'A', '3', '-4.671', '-10.299', '6.010', '1.00', '0.00', 'C']\n",
      "['ATOM', '33', 'C', 'GLN', 'A', '3', '-3.943', '-10.501', '4.688', '1.00', '0.00', 'C']\n",
      "['ATOM', '34', 'O', 'GLN', 'A', '3', '-4.487', '-11.084', '3.751', '1.00', '0.00', 'O']\n",
      "['ATOM', '35', 'CB', 'GLN', 'A', '3', '-4.188', '-11.318', '7.041', '1.00', '0.00', 'C']\n",
      "['ATOM', '36', 'CG', 'GLN', 'A', '3', '-3.043', '-10.801', '7.897', '1.00', '0.00', 'C']\n",
      "['ATOM', '37', 'CD', 'GLN', 'A', '3', '-2.192', '-11.916', '8.471', '1.00', '0.00', 'C']\n",
      "['ATOM', '38', 'OE1', 'GLN', 'A', '3', '-2.671', '-12.741', '9.250', '1.00', '0.00', 'O']\n",
      "['ATOM', '39', 'NE2', 'GLN', 'A', '3', '-0.920', '-11.948', '8.089', '1.00', '0.00', 'N']\n",
      "['ATOM', '40', 'H', 'GLN', 'A', '3', '-6.483', '-11.182', '5.368', '1.00', '0.00', 'H']\n",
      "['ATOM', '41', 'HA', 'GLN', 'A', '3', '-4.455', '-9.306', '6.372', '1.00', '0.00', 'H']\n",
      "['ATOM', '42', 'HB2', 'GLN', 'A', '3', '-5.011', '-11.574', '7.692', '1.00', '0.00', 'H']\n",
      "['ATOM', '43', 'HB3', 'GLN', 'A', '3', '-3.854', '-12.206', '6.527', '1.00', '0.00', 'H']\n",
      "['ATOM', '44', 'HG2', 'GLN', 'A', '3', '-2.416', '-10.167', '7.288', '1.00', '0.00', 'H']\n",
      "['ATOM', '45', 'HG3', 'GLN', 'A', '3', '-3.453', '-10.223', '8.712', '1.00', '0.00', 'H']\n",
      "['ATOM', '46', 'HE21', 'GLN', 'A', '3', '-0.608', '-11.259', '7.464', '1.00', '0.00', 'H']\n",
      "['ATOM', '47', 'HE22', 'GLN', 'A', '3', '-0.347', '-12.658', '8.445', '1.00', '0.00', 'H']\n",
      "['ATOM', '48', 'N', 'LEU', 'A', '4', '-2.718', '-9.995', '4.611', '1.00', '0.00', 'N']\n",
      "['ATOM', '49', 'CA', 'LEU', 'A', '4', '-1.927', '-10.098', '3.393', '1.00', '0.00', 'C']\n",
      "['ATOM', '50', 'C', 'LEU', 'A', '4', '-0.510', '-10.578', '3.692', '1.00', '0.00', 'C']\n",
      "['ATOM', '51', 'O', 'LEU', 'A', '4', '-0.131', '-10.740', '4.852', '1.00', '0.00', 'O']\n",
      "['ATOM', '52', 'CB', 'LEU', 'A', '4', '-1.890', '-8.740', '2.692', '1.00', '0.00', 'C']\n",
      "['ATOM', '53', 'CG', 'LEU', 'A', '4', '-2.889', '-7.713', '3.234', '1.00', '0.00', 'C']\n",
      "['ATOM', '54', 'CD1', 'LEU', 'A', '4', '-2.462', '-6.307', '2.865', '1.00', '0.00', 'C']\n",
      "['ATOM', '55', 'CD2', 'LEU', 'A', '4', '-4.291', '-7.995', '2.715', '1.00', '0.00', 'C']\n",
      "['ATOM', '56', 'H', 'LEU', 'A', '4', '-2.345', '-9.526', '5.387', '1.00', '0.00', 'H']\n",
      "['ATOM', '57', 'HA', 'LEU', 'A', '4', '-2.408', '-10.815', '2.745', '1.00', '0.00', 'H']\n",
      "['ATOM', '58', 'HB2', 'LEU', 'A', '4', '-0.893', '-8.332', '2.795', '1.00', '0.00', 'H']\n",
      "['ATOM', '59', 'HB3', 'LEU', 'A', '4', '-2.093', '-8.891', '1.643', '1.00', '0.00', 'H']\n",
      "['ATOM', '60', 'HG', 'LEU', 'A', '4', '-2.912', '-7.780', '4.311', '1.00', '0.00', 'H']\n",
      "['ATOM', '61', 'HD11', 'LEU', 'A', '4', '-2.048', '-5.817', '3.738', '1.00', '0.00', 'H']\n",
      "['ATOM', '62', 'HD12', 'LEU', 'A', '4', '-3.317', '-5.753', '2.512', '1.00', '0.00', 'H']\n",
      "['ATOM', '63', 'HD13', 'LEU', 'A', '4', '-1.715', '-6.351', '2.088', '1.00', '0.00', 'H']\n",
      "['ATOM', '64', 'HD21', 'LEU', 'A', '4', '-4.611', '-7.181', '2.083', '1.00', '0.00', 'H']\n",
      "['ATOM', '65', 'HD22', 'LEU', 'A', '4', '-4.970', '-8.091', '3.550', '1.00', '0.00', 'H']\n",
      "['ATOM', '66', 'HD23', 'LEU', 'A', '4', '-4.287', '-8.913', '2.146', '1.00', '0.00', 'H']\n",
      "['ATOM', '67', 'N', 'GLN', 'A', '5', '0.266', '-10.806', '2.637', '1.00', '0.00', 'N']\n",
      "['ATOM', '68', 'CA', 'GLN', 'A', '5', '1.642', '-11.270', '2.782', '1.00', '0.00', 'C']\n",
      "['ATOM', '69', 'C', 'GLN', 'A', '5', '2.578', '-10.486', '1.870', '1.00', '0.00', 'C']\n",
      "['ATOM', '70', 'O', 'GLN', 'A', '5', '2.447', '-10.528', '0.647', '1.00', '0.00', 'O']\n",
      "['ATOM', '71', 'CB', 'GLN', 'A', '5', '1.741', '-12.768', '2.470', '1.00', '0.00', 'C']\n",
      "['ATOM', '72', 'CG', 'GLN', 'A', '5', '0.393', '-13.446', '2.276', '1.00', '0.00', 'C']\n",
      "['ATOM', '73', 'CD', 'GLN', 'A', '5', '0.429', '-14.522', '1.208', '1.00', '0.00', 'C']\n",
      "['ATOM', '74', 'OE1', 'GLN', 'A', '5', '1.177', '-14.424', '0.237', '1.00', '0.00', 'O']\n",
      "['ATOM', '75', 'NE2', 'GLN', 'A', '5', '-0.383', '-15.557', '1.385', '1.00', '0.00', 'N']\n",
      "['ATOM', '76', 'H', 'GLN', 'A', '5', '-0.095', '-10.660', '1.736', '1.00', '0.00', 'H']\n",
      "['ATOM', '77', 'HA', 'GLN', 'A', '5', '1.939', '-11.106', '3.808', '1.00', '0.00', 'H']\n",
      "['ATOM', '78', 'HB2', 'GLN', 'A', '5', '2.317', '-12.897', '1.566', '1.00', '0.00', 'H']\n",
      "['ATOM', '79', 'HB3', 'GLN', 'A', '5', '2.252', '-13.259', '3.285', '1.00', '0.00', 'H']\n",
      "['ATOM', '80', 'HG2', 'GLN', 'A', '5', '0.094', '-13.897', '3.209', '1.00', '0.00', 'H']\n",
      "['ATOM', '81', 'HG3', 'GLN', 'A', '5', '-0.332', '-12.700', '1.989', '1.00', '0.00', 'H']\n",
      "['ATOM', '82', 'HE21', 'GLN', 'A', '5', '-0.951', '-15.569', '2.184', '1.00', '0.00', 'H']\n",
      "['ATOM', '83', 'HE22', 'GLN', 'A', '5', '-0.381', '-16.267', '0.710', '1.00', '0.00', 'H']\n",
      "['TER', '84', 'GLN', 'A', '5']\n",
      "['ENDMDL']\n",
      "['END']\n"
     ]
    }
   ],
   "source": [
    "# Loop over the lines\n",
    "for line in lines:\n",
    "    line = line.strip()  # Remove starting and trailing spaces/tabs/newlines\n",
    "    \n",
    "    # Only do something if it's not an empty line\n",
    "    if line:\n",
    "        print(line.split())   # Split the line by white spaces"
   ]
  },
  {
   "cell_type": "markdown",
   "metadata": {},
   "source": [
    "**3. Using the \"TestFile.pdb\", write out all lines that contain 'VAL' to a new file \"TestFile_VAL.pdb\" in \"results\" directory.**"
   ]
  },
  {
   "cell_type": "code",
   "execution_count": 18,
   "metadata": {},
   "outputs": [],
   "source": [
    "# Open the file\n",
    "fileHandle = open(\"data/TestFile.pdb\")\n",
    " \n",
    "# Read all the lines in the file (as separated by a newline character), and store them in the lines list\n",
    "# Each element in this list corresponds to one line of the file!\n",
    "lines = fileHandle.readlines()\n",
    " \n",
    "# Close the file\n",
    "fileHandle.close()\n",
    " \n",
    "# Track the lines with VAL\n",
    "linesToWrite = []\n",
    " \n",
    "# Loop over the lines\n",
    "for line in lines:\n",
    "    if \"VAL\" in line:\n",
    "        linesToWrite.append(line)\n",
    "\n",
    "# Write out the lines\n",
    "fileHandle = open(\"results/TextFile_VAL.pdb\",'w')\n",
    "for line in linesToWrite:\n",
    "     fileHandle.write(line)\n",
    "fileHandle.close()"
   ]
  },
  {
   "cell_type": "markdown",
   "metadata": {},
   "source": [
    "**4. Read in the \"TestFile.pdb\" atom coordinate file, print out the title of the file, and find all atoms that have coordinates closer than 2 angstrom to the (x,y,z) coordinate (-8.7,-7.7,4.7). Print out the model number, residue number, atom name and atom serial for each.**\n",
    "\n",
    "The model is indicated by:\n",
    "```\n",
    "MODEL        1\n",
    "```\n",
    "The atom coordinate information is: \n",
    "```\n",
    "ATOM      1  N   ASP A   1     -10.341  -9.922   9.398  1.00  0.00           N\n",
    "```\n",
    "where column 1 is always ATOM, column 2 is the atom serial, the column 3 the atom name, column 4 the residue name, column 5 the chain code, column 6 the residue number, followed by the x, y and z coordinates in angstrom in columns 7, 8 and 9.\n",
    "Note that the distance between two coordinates is calculated as the square root of (x1-x2)²+(y1-y2)²+(z1-z2)². "
   ]
  },
  {
   "cell_type": "code",
   "execution_count": 25,
   "metadata": {},
   "outputs": [
    {
     "name": "stdout",
     "output_type": "stream",
     "text": [
      "The title is SOLUTION STRUCTURE OF A NON-EXISTENT PEPTIDE\n",
      "Model 1, residue 2, atom CA (serial 16) is 1.509551 away from reference.\n",
      "Model 1, residue 2, atom CB (serial 19) is 0.060737 away from reference.\n",
      "Model 1, residue 2, atom CG1 (serial 20) is 1.486960 away from reference.\n",
      "Model 1, residue 2, atom CG2 (serial 21) is 1.569649 away from reference.\n",
      "Model 1, residue 2, atom HB (serial 24) is 1.102567 away from reference.\n",
      "Model 2, residue 2, atom CA (serial 16) is 1.919802 away from reference.\n",
      "Model 2, residue 2, atom CB (serial 19) is 1.460313 away from reference.\n",
      "Model 2, residue 2, atom CG1 (serial 20) is 0.893603 away from reference.\n",
      "Model 2, residue 2, atom HG11 (serial 25) is 0.781374 away from reference.\n",
      "Model 2, residue 2, atom HG12 (serial 26) is 1.570687 away from reference.\n",
      "Model 2, residue 2, atom HG13 (serial 27) is 1.874323 away from reference.\n",
      "Model 3, residue 2, atom CB (serial 19) is 1.558258 away from reference.\n",
      "Model 3, residue 2, atom CG1 (serial 20) is 1.723128 away from reference.\n",
      "Model 3, residue 2, atom CG2 (serial 21) is 1.402635 away from reference.\n",
      "Model 3, residue 2, atom HG11 (serial 25) is 1.440517 away from reference.\n",
      "Model 3, residue 2, atom HG21 (serial 28) is 1.547080 away from reference.\n",
      "Model 3, residue 2, atom HG23 (serial 30) is 1.477349 away from reference.\n"
     ]
    }
   ],
   "source": [
    "# Open the file\n",
    "fileHandle = open(\"data/TestFile.pdb\")\n",
    " \n",
    "# Read all the lines in the file (as separated by a newline character), and store them in the lines list\n",
    "# Each element in this list corresponds to one line of the file!\n",
    "lines = fileHandle.readlines()\n",
    " \n",
    "# Close the file\n",
    "fileHandle.close()\n",
    " \n",
    "# Initialise some information\n",
    "searchCoordinate = (-8.7,-7.7,4.7)\n",
    "modelNumber = None\n",
    " \n",
    "# Loop over the lines, and do some basic string manipulations\n",
    "for line in lines:\n",
    "    line = line.strip()  # Remove starting and trailing spaces/tabs/newlines\n",
    "    \n",
    "    # Only do something if it's not an empty line\n",
    "    if line:\n",
    "        cols = line.split()   # Split the line by white spaces; depending on the format this could be commas, ...\n",
    "    \n",
    "        # Print off the title\n",
    "        if cols[0] == 'TITLE':\n",
    "            title = line.replace(cols[0],'')\n",
    "            title = title.strip()\n",
    "            print(\"The title is %s\" % title)\n",
    "\n",
    "        # Track the model number\n",
    "        elif cols[0] == 'MODEL':\n",
    "            modelNumber = int(cols[1])\n",
    "\n",
    "        # For atom lines, calculate the distance\n",
    "        elif cols[0] == 'ATOM':\n",
    "            # Set some clear variable names and convert to the right type\n",
    "            atomSerial = int(cols[1])\n",
    "            atomName = cols[2]\n",
    "            residueNumber = int(cols[5])\n",
    "            x = float(cols[6])\n",
    "            y = float(cols[7])\n",
    "            z = float(cols[8])\n",
    "            \n",
    "            # Calculate the distance\n",
    "            distance = ((x - searchCoordinate[0]) ** 2 + (y - searchCoordinate[1]) ** 2 + (z - searchCoordinate[2]) ** 2 ) ** 0.5\n",
    " \n",
    "            if distance < 2.0:\n",
    "                print(\"Model %i, residue %i, atom %s (serial %i) is %f away from reference.\" % (modelNumber,residueNumber,atomName,atomSerial,distance))"
   ]
  },
  {
   "cell_type": "markdown",
   "metadata": {},
   "source": [
    "## EXERCISE 6 - Functions"
   ]
  },
  {
   "cell_type": "markdown",
   "metadata": {},
   "source": [
    "**1. Write a function to multiply all the numbers in a list.**"
   ]
  },
  {
   "cell_type": "code",
   "execution_count": 2,
   "metadata": {},
   "outputs": [
    {
     "name": "stdout",
     "output_type": "stream",
     "text": [
      "-336\n",
      "-182.0\n"
     ]
    }
   ],
   "source": [
    "def multiply(numbers):  \n",
    "    total = 1\n",
    "    for x in numbers:\n",
    "        total *= x  \n",
    "    return total\n",
    "\n",
    "print(multiply([8, 2, 3, -1, 7]))\n",
    "print(multiply([1, -2, 0.2, 91, 5]))"
   ]
  },
  {
   "cell_type": "markdown",
   "metadata": {},
   "source": [
    "**2. Write a function that computes the absolute of a number. Compare it to the built-in function `abs()`.**"
   ]
  },
  {
   "cell_type": "code",
   "execution_count": 4,
   "metadata": {},
   "outputs": [
    {
     "name": "stdout",
     "output_type": "stream",
     "text": [
      "10\n",
      "10\n"
     ]
    }
   ],
   "source": [
    "def myAbsFunc(someValue):\n",
    "    if someValue < 0:\n",
    "        someValue = -someValue\n",
    "    return someValue\n",
    "\n",
    "print(abs(-10))\n",
    "print(myAbsFunc(-10))"
   ]
  },
  {
   "cell_type": "markdown",
   "metadata": {},
   "source": [
    "**3. Write a function that computes the mean of a list of numbers.**"
   ]
  },
  {
   "cell_type": "code",
   "execution_count": 5,
   "metadata": {},
   "outputs": [
    {
     "name": "stdout",
     "output_type": "stream",
     "text": [
      "27.75\n",
      "4916309.285714285\n"
     ]
    }
   ],
   "source": [
    "def getMeanValue(valueList):\n",
    "    # It is good practice to comment functions on top to describe what they do:\n",
    "    \"\"\"\n",
    "    Calculate the mean (average) value from a list of values.\n",
    "    Input: list of integers/floats\n",
    "    Output: mean value\n",
    "    \"\"\"\n",
    "    \n",
    "    valueTotal = 0.0\n",
    "    \n",
    "    for value in valueList:\n",
    "        valueTotal += value\n",
    "    \n",
    "    numberValues = len(valueList)\n",
    "    \n",
    "    return (valueTotal/numberValues)\n",
    " \n",
    "meanValue = getMeanValue([4,6,77,3,67,54,6,5])\n",
    "print(meanValue)\n",
    "print(getMeanValue([3443,434,34343456,32434,34,34341,23]))"
   ]
  },
  {
   "cell_type": "markdown",
   "metadata": {},
   "source": [
    "**4. Write a function `complementDNA` that produces the complement of a DNA sequence (converts A to T and C to G, and vice versa).**"
   ]
  },
  {
   "cell_type": "code",
   "execution_count": 9,
   "metadata": {},
   "outputs": [
    {
     "name": "stdout",
     "output_type": "stream",
     "text": [
      "TAGCCGAAAGCTTTAGCTGTACTGTTCTATGTCTATGTCTAAAT\n"
     ]
    }
   ],
   "source": [
    "def complementDNA(sequence):\n",
    "    # Create dictionary with the complementary bases\n",
    "    complement = {'A': 'T', 'C': 'G', 'G': 'C', 'T': 'A'} \n",
    "    # Separate sequence into bases\n",
    "    bases = list(sequence)\n",
    "    # Get the complement bases\n",
    "    comp_bases = [complement[base] for base in bases]\n",
    "    # Re-join bases into a sequence\n",
    "    comp_sequence = ''.join(comp_bases)\n",
    "    return comp_sequence\n",
    "    \n",
    "    \n",
    "seq = \"ATCGGCTTTCGAAATCGACATGACAAGATACAGATACAGATTTA\"\n",
    "print(complementDNA(seq))"
   ]
  },
  {
   "cell_type": "markdown",
   "metadata": {},
   "source": [
    "**5. Add a second argument to `complementDNA` called `reverse`, which defaults to \"False\". Change the function so that it prints the reverse sequence when `reverse = True`.**\n",
    "NOTE: In biology, you may want to work with the reverse-complement of a sequence if it contains an ORF on the reverse strand."
   ]
  },
  {
   "cell_type": "code",
   "execution_count": 11,
   "metadata": {},
   "outputs": [
    {
     "name": "stdout",
     "output_type": "stream",
     "text": [
      "TAGCCGAAAGCTTTAGCTGTACTGTTCTATGTCTATGTCTAAAT\n",
      "TAAATCTGTATCTGTATCTTGTCATGTCGATTTCGAAAGCCGAT\n"
     ]
    }
   ],
   "source": [
    "def complementDNA(sequence, reverse = False):\n",
    "    # Create dictionary with the complementary bases\n",
    "    complement = {'A': 'T', 'C': 'G', 'G': 'C', 'T': 'A'} \n",
    "    # Separate sequence into bases\n",
    "    bases = list(sequence)\n",
    "    # Get the complement bases\n",
    "    comp_bases = [complement[base] for base in bases]\n",
    "    # Re-join bases into a sequence\n",
    "    comp_sequence = ''.join(comp_bases)\n",
    "    \n",
    "    # If reverse is True, get the reversed sequence\n",
    "    if reverse:\n",
    "        return comp_sequence[::-1]\n",
    "    else:\n",
    "        return comp_sequence\n",
    "    \n",
    "    \n",
    "seq = \"ATCGGCTTTCGAAATCGACATGACAAGATACAGATACAGATTTA\"\n",
    "print(complementDNA(seq))\n",
    "print(complementDNA(seq,True))"
   ]
  },
  {
   "cell_type": "markdown",
   "metadata": {},
   "source": [
    "**6. Write a function to that calculates the GC content of a sequence. Test it with the sequence \"ATCGGCTTTC\".**"
   ]
  },
  {
   "cell_type": "code",
   "execution_count": 13,
   "metadata": {},
   "outputs": [
    {
     "data": {
      "text/plain": [
       "50.0"
      ]
     },
     "execution_count": 13,
     "metadata": {},
     "output_type": "execute_result"
    }
   ],
   "source": [
    "def GCcontent(sequence):\n",
    "    count = 0\n",
    "    for n in sequence:\n",
    "        if n in [\"G\",\"C\"]:\n",
    "            count += 1\n",
    "    return count*100/len(sequence)\n",
    "\n",
    "# Test function:\n",
    "GCcontent(\"ATCGGCTTTC\")"
   ]
  },
  {
   "cell_type": "markdown",
   "metadata": {},
   "source": [
    "**7. Write a function that reads a fasta file and outputs a dictionary, which contains the name of the sequence in the keys and the sequence in the values.** Remember that sequences in fasta files are separated by \">\". Test the function with the \"TestFasta.fa\" file."
   ]
  },
  {
   "cell_type": "code",
   "execution_count": 38,
   "metadata": {},
   "outputs": [
    {
     "name": "stdout",
     "output_type": "stream",
     "text": [
      "{'sequence 1': 'AAACGGCTGACGATACGTTGGTCGATACGTGCAACTGACACGTACGACACTACGACATACG', 'sequence 2': 'CKKTMKLLIPRRAEDV'}\n"
     ]
    }
   ],
   "source": [
    "def openfasta(filename):\n",
    "    # Open the file\n",
    "    fileHandle = open(filename)\n",
    "    # Read all the lines in the file\n",
    "    seqs = fileHandle.read().split(\">\") # Split file whenever a > is detected\n",
    "    # Close the file\n",
    "    fileHandle.close()\n",
    "    # Loop over the lines\n",
    "    seqdict = {}\n",
    "    for seq in seqs:\n",
    "        if seq: # Skip empty sequences\n",
    "            splitted = seq.split(\"\\n\") # Split different lines of one same sequence\n",
    "            # the first line is the name of the sequence, the rest is the sequence itself\n",
    "            seqdict[splitted[0]] = \"\".join(splitted[1:])\n",
    "    return seqdict\n",
    "\n",
    "# Test function\n",
    "seqs = openfasta(\"data/TestFasta.fa\")\n",
    "print(seqs)"
   ]
  },
  {
   "cell_type": "markdown",
   "metadata": {},
   "source": [
    "**8. Read the lyrics of Imagine by John Lennon, 1971 from the file in \"imagine.txt\". Split the text into words. Print the total number of words, and the number of distinct words. Calculate the frequency of each distinct word and store the result into a dictionary. Find the most frequent word longer than 3 characters in the song, print it with its frequency.**"
   ]
  },
  {
   "cell_type": "code",
   "execution_count": 45,
   "metadata": {},
   "outputs": [
    {
     "name": "stdout",
     "output_type": "stream",
     "text": [
      "Imagin contains 133 words, 69 of them are different.\n",
      "imagine is the most frequent word being used 6 times.\n"
     ]
    }
   ],
   "source": [
    "# Read lyrics from file\n",
    "fileHandle = open('data/imagine.txt')\n",
    "lyrics = fileHandle.readlines()\n",
    "fileHandle.close()\n",
    "# Split into words\n",
    "words = []\n",
    "for l in lyrics:\n",
    "    words.extend(l.lower().strip().split()) # Convert all to lowercase to be case-insensitive\n",
    "n_words = len(words)\n",
    "n_diff_words = len(set(words))\n",
    "print(\"Imagin contains %i words, %i of them are different.\" % (n_words, n_diff_words))\n",
    "\n",
    "#Calculate the frequency of each word\n",
    "word_dict = {}\n",
    "for w in set(words):\n",
    "    word_dict[w] = words.count(w)\n",
    "\n",
    "# Find most frequent word\n",
    "most_frequent = 0\n",
    "for r in word_dict:\n",
    "    if (word_dict[r] > most_frequent) and (len(r) > 3):\n",
    "        most_frequent = word_dict[r]\n",
    "        most_frequent_word = r\n",
    "print(str(\"%s is the most frequent word being used %i times.\" % (most_frequent_word, most_frequent)))"
   ]
  }
 ],
 "metadata": {
  "kernelspec": {
   "display_name": "Python 3",
   "language": "python",
   "name": "python3"
  },
  "language_info": {
   "codemirror_mode": {
    "name": "ipython",
    "version": 3
   },
   "file_extension": ".py",
   "mimetype": "text/x-python",
   "name": "python",
   "nbconvert_exporter": "python",
   "pygments_lexer": "ipython3",
   "version": "3.7.7"
  }
 },
 "nbformat": 4,
 "nbformat_minor": 4
}
